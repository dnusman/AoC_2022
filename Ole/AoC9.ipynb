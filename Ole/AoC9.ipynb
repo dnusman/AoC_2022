{
 "cells": [
  {
   "cell_type": "code",
   "execution_count": 24,
   "id": "85b8d00b",
   "metadata": {},
   "outputs": [
    {
     "name": "stdout",
     "output_type": "stream",
     "text": [
      "[-1, 0] [1, 0]\n",
      "[-2, 0] [2, 0]\n",
      "[-3, 0] [3, 0]\n",
      "[-4, 0] [4, 0]\n",
      "[-5, -1] [4, 1]\n",
      "[-6, -2] [4, 2]\n",
      "[-7, -3] [4, 3]\n",
      "[-8, -4] [4, 4]\n",
      "[-9, -5] [3, 4]\n",
      "[-10, -6] [2, 4]\n",
      "[-11, -7] [1, 4]\n",
      "[-12, -8] [1, 3]\n",
      "[-13, -9] [2, 3]\n",
      "[-14, -10] [3, 3]\n",
      "[-15, -11] [4, 3]\n",
      "[-16, -12] [5, 3]\n",
      "[-17, -13] [5, 2]\n",
      "[-18, -14] [4, 2]\n",
      "[-19, -15] [3, 2]\n",
      "[-20, -16] [2, 2]\n",
      "[-21, -17] [1, 2]\n",
      "[-22, -18] [0, 2]\n",
      "[-23, -19] [1, 2]\n",
      "[-24, -20] [2, 2]\n"
     ]
    },
    {
     "data": {
      "text/plain": [
       "24"
      ]
     },
     "execution_count": 24,
     "metadata": {},
     "output_type": "execute_result"
    }
   ],
   "source": [
    "with open(\"input9test\") as f:\n",
    "    moves = [x.split(\" \") for x in f.read().splitlines()]\n",
    "\n",
    "# assume head & tail start at same position\n",
    "tpos = [0, 0]\n",
    "hpos = [0, 0]\n",
    "tposs = set()\n",
    "\n",
    "for direction, count in moves:\n",
    "    for _ in range(int(count)):\n",
    "        # move head\n",
    "        if direction == \"U\":\n",
    "            hpos[1] += 1\n",
    "        if direction == \"D\":\n",
    "            hpos[1] -= 1\n",
    "        if direction == \"R\":\n",
    "            hpos[0] += 1\n",
    "        if direction == \"L\":\n",
    "            hpos[0] -= 1\n",
    "            \n",
    "        delta_x = tpos[0] - hpos[0]\n",
    "        delta_y = tpos[1] - hpos[1]\n",
    "        \n",
    "        if abs(delta_x) + abs(delta_y) < 2:\n",
    "            tpos[0] += delta_x\n",
    "            tpos[1] += delta_y\n",
    "            \n",
    "        else:\n",
    "            tpos[0] += min(1,max(-1,delta_x))\n",
    "            tpos[1] += min(1,max(-1,delta_y))\n",
    "            \n",
    "        print(tpos, hpos)\n",
    "            \n",
    "        tposs.add(tuple(tpos))\n",
    "        \n",
    "len(tposs)"
   ]
  },
  {
   "cell_type": "code",
   "execution_count": 19,
   "id": "69e0766c",
   "metadata": {},
   "outputs": [
    {
     "ename": "TypeError",
     "evalue": "unsupported operand type(s) for -: 'list' and 'list'",
     "output_type": "error",
     "traceback": [
      "\u001b[0;31m---------------------------------------------------------------------------\u001b[0m",
      "\u001b[0;31mTypeError\u001b[0m                                 Traceback (most recent call last)",
      "\u001b[0;32m/var/folders/bj/v61hs0c95px_0f6p02b2y1km0000gn/T/ipykernel_29051/504955215.py\u001b[0m in \u001b[0;36m<module>\u001b[0;34m\u001b[0m\n\u001b[0;32m----> 1\u001b[0;31m \u001b[0;34m[\u001b[0m\u001b[0;36m3\u001b[0m\u001b[0;34m,\u001b[0m\u001b[0;36m4\u001b[0m\u001b[0;34m]\u001b[0m \u001b[0;34m-\u001b[0m \u001b[0;34m[\u001b[0m\u001b[0;36m1\u001b[0m\u001b[0;34m,\u001b[0m\u001b[0;36m2\u001b[0m\u001b[0;34m]\u001b[0m\u001b[0;34m\u001b[0m\u001b[0;34m\u001b[0m\u001b[0m\n\u001b[0m",
      "\u001b[0;31mTypeError\u001b[0m: unsupported operand type(s) for -: 'list' and 'list'"
     ]
    }
   ],
   "source": []
  }
 ],
 "metadata": {
  "kernelspec": {
   "display_name": "Python 3 (ipykernel)",
   "language": "python",
   "name": "python3"
  },
  "language_info": {
   "codemirror_mode": {
    "name": "ipython",
    "version": 3
   },
   "file_extension": ".py",
   "mimetype": "text/x-python",
   "name": "python",
   "nbconvert_exporter": "python",
   "pygments_lexer": "ipython3",
   "version": "3.7.7"
  }
 },
 "nbformat": 4,
 "nbformat_minor": 5
}
