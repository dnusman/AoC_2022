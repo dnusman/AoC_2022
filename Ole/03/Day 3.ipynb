{
 "cells": [
  {
   "cell_type": "code",
   "execution_count": 73,
   "id": "de315cda",
   "metadata": {},
   "outputs": [
    {
     "data": {
      "text/plain": [
       "8185"
      ]
     },
     "execution_count": 73,
     "metadata": {},
     "output_type": "execute_result"
    }
   ],
   "source": [
    "with open('input3') as f:\n",
    "    rucksacks = f.read().splitlines()\n",
    "    \n",
    "def slice_rucksack(r):\n",
    "    # takes string of rucksack and returns two lists split in the middle\n",
    "    if len(r) % 2 != 0:\n",
    "        raise ValueError\n",
    "    mid = int(len(r)/2)\n",
    "    return [r[:mid], r[mid:]]\n",
    "\n",
    "def score(rs):\n",
    "    # takes list/set of characters, returns int score\n",
    "    scores = 0\n",
    "    for r in rs:\n",
    "        sub_scores = np.array(list(map(lambda x: ord(x)-96, r)))\n",
    "        sub_scores[sub_scores < 0] += 58\n",
    "        scores += sub_scores.sum()\n",
    "    return scores\n",
    "\n",
    "sliced_rucksacks = [slice_rucksack(r) for r in rucksacks]\n",
    "\n",
    "overlaps = [set(r[0]).intersection(set(r[1])) for r in sliced_rucksacks]\n",
    "\n",
    "score(overlaps)"
   ]
  },
  {
   "cell_type": "code",
   "execution_count": 81,
   "id": "b66cba08",
   "metadata": {},
   "outputs": [
    {
     "data": {
      "text/plain": [
       "2817"
      ]
     },
     "execution_count": 81,
     "metadata": {},
     "output_type": "execute_result"
    }
   ],
   "source": [
    "if len(rucksacks) % 3 != 0:\n",
    "    raise ValueError\n",
    "\n",
    "groups = [[rucksacks[i], rucksacks[i+1], rucksacks[i+2]] for i in range(0, len(rucksacks), 3)]\n",
    "\n",
    "badges = [set(g[0]).intersection(set(g[1]).intersection(set(g[2]))) for g in groups]\n",
    "\n",
    "score(badges)"
   ]
  },
  {
   "cell_type": "code",
   "execution_count": 104,
   "id": "1a78c219",
   "metadata": {},
   "outputs": [
    {
     "name": "stdout",
     "output_type": "stream",
     "text": [
      "a\n"
     ]
    }
   ],
   "source": []
  }
 ],
 "metadata": {
  "kernelspec": {
   "display_name": "Python 3 (ipykernel)",
   "language": "python",
   "name": "python3"
  },
  "language_info": {
   "codemirror_mode": {
    "name": "ipython",
    "version": 3
   },
   "file_extension": ".py",
   "mimetype": "text/x-python",
   "name": "python",
   "nbconvert_exporter": "python",
   "pygments_lexer": "ipython3",
   "version": "3.7.7"
  }
 },
 "nbformat": 4,
 "nbformat_minor": 5
}
