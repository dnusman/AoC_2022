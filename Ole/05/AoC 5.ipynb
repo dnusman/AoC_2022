{
 "cells": [
  {
   "cell_type": "code",
   "execution_count": 37,
   "metadata": {},
   "outputs": [
    {
     "name": "stdout",
     "output_type": "stream",
     "text": [
      "    [B]             [B] [S]        \n",
      "    [M]             [P] [L] [B] [J]\n",
      "    [D]     [R]     [V] [D] [Q] [D]\n",
      "    [T] [R] [Z]     [H] [H] [G] [C]\n",
      "    [P] [W] [J] [B] [J] [F] [J] [S]\n",
      "[N] [S] [Z] [V] [M] [N] [Z] [F] [M]\n",
      "[W] [Z] [H] [D] [H] [G] [Q] [S] [W]\n",
      "[B] [L] [Q] [W] [S] [L] [J] [W] [Z]\n",
      " 1   2   3   4   5   6   7   8   9 \n"
     ]
    },
    {
     "data": {
      "text/plain": [
       "[['B', 'W', 'N'],\n",
       " ['L', 'Z', 'S', 'P', 'T', 'D', 'M', 'B'],\n",
       " ['Q', 'H', 'Z', 'W', 'R'],\n",
       " ['W', 'D', 'V', 'J', 'Z', 'R'],\n",
       " ['S', 'H', 'M', 'B'],\n",
       " ['L', 'G', 'N', 'J', 'H', 'V', 'P', 'B'],\n",
       " ['J', 'Q', 'Z', 'F', 'H', 'D', 'L', 'S'],\n",
       " ['W', 'S', 'F', 'J', 'G', 'Q', 'B'],\n",
       " ['Z', 'W', 'M', 'S', 'C', 'D', 'J']]"
      ]
     },
     "execution_count": 37,
     "metadata": {},
     "output_type": "execute_result"
    }
   ],
   "source": [
    "import re\n",
    "import numpy as np\n",
    "with open(\"input5\") as f:\n",
    "    data = f.read().split('\\n\\n')"
   ]
  },
  {
   "cell_type": "code",
   "execution_count": 91,
   "metadata": {},
   "outputs": [
    {
     "name": "stdout",
     "output_type": "stream",
     "text": [
      "    [B]             [B] [S]        \n",
      "    [M]             [P] [L] [B] [J]\n",
      "    [D]     [R]     [V] [D] [Q] [D]\n",
      "    [T] [R] [Z]     [H] [H] [G] [C]\n",
      "    [P] [W] [J] [B] [J] [F] [J] [S]\n",
      "[N] [S] [Z] [V] [M] [N] [Z] [F] [M]\n",
      "[W] [Z] [H] [D] [H] [G] [Q] [S] [W]\n",
      "[B] [L] [Q] [W] [S] [L] [J] [W] [Z]\n",
      " 1   2   3   4   5   6   7   8   9 \n"
     ]
    },
    {
     "data": {
      "text/plain": [
       "[['B', 'W', 'N'],\n",
       " ['L', 'Z', 'S', 'P', 'T', 'D', 'M', 'B'],\n",
       " ['Q', 'H', 'Z', 'W', 'R'],\n",
       " ['W', 'D', 'V', 'J', 'Z', 'R'],\n",
       " ['S', 'H', 'M', 'B'],\n",
       " ['L', 'G', 'N', 'J', 'H', 'V', 'P', 'B'],\n",
       " ['J', 'Q', 'Z', 'F', 'H', 'D', 'L', 'S'],\n",
       " ['W', 'S', 'F', 'J', 'G', 'Q', 'B'],\n",
       " ['Z', 'W', 'M', 'S', 'C', 'D', 'J']]"
      ]
     },
     "execution_count": 91,
     "metadata": {},
     "output_type": "execute_result"
    }
   ],
   "source": [
    "stacks = data[0].splitlines()[:-1]\n",
    "print(data[0])\n",
    "stacks = np.matrix([[x[i] for i in range(1, 34, 4)] for x in stacks]).T[:,::-1].tolist()\n",
    "\n",
    "stacks = [[cell for cell in row if cell != \" \"] for row in stacks]\n",
    "\n",
    "moves = data[1].splitlines()\n",
    "def parse_moves(move):\n",
    "    x = re.search(\"move (\\d+) from (\\d) to (\\d)\", move)\n",
    "    return {\"from\": int(x.group(2)), \"to\": int(x.group(3)), \"count\": int(x.group(1))}\n",
    "\n",
    "moves = list(map(parse_moves, moves))\n",
    "#moves\n",
    "\n",
    "stacks"
   ]
  },
  {
   "cell_type": "code",
   "execution_count": 87,
   "metadata": {},
   "outputs": [
    {
     "name": "stdout",
     "output_type": "stream",
     "text": [
      "answer 1: MQSHJMWNH\n"
     ]
    }
   ],
   "source": [
    "for move in moves:\n",
    "    for _ in range(move[\"count\"]):\n",
    "        fr = move[\"from\"]-1\n",
    "        to = move[\"to\"]-1\n",
    "        stacks[to].append(stacks[fr][-1])\n",
    "        stacks[fr].pop()\n",
    "\n",
    "answer = \"\"\n",
    "\n",
    "for stack in stacks:\n",
    "    answer += stack[-1]\n",
    "    \n",
    "print(f\"answer 1: {answer}\")"
   ]
  },
  {
   "cell_type": "code",
   "execution_count": 92,
   "metadata": {},
   "outputs": [
    {
     "name": "stdout",
     "output_type": "stream",
     "text": [
      "answer 2: LLWJRBHVZ\n"
     ]
    }
   ],
   "source": [
    "stacks = data[0].splitlines()[:-1]\n",
    "stacks = np.matrix([[x[i] for i in range(1, 34, 4)] for x in stacks]).T[:,::-1].tolist()\n",
    "stacks = [[cell for cell in row if cell != \" \"] for row in stacks]\n",
    "\n",
    "for move in moves:\n",
    "    fr = move[\"from\"]-1\n",
    "    to = move[\"to\"]-1\n",
    "    count = move[\"count\"]\n",
    "    move_stack = stacks[fr][-1:-count-1:-1]\n",
    "    stacks[fr] = stacks[fr][:-count]\n",
    "    stacks[to] += move_stack[::-1]\n",
    "    \n",
    "answer = \"\"\n",
    "for stack in stacks:\n",
    "    answer += stack[-1]\n",
    "    \n",
    "print(f\"answer 2: {answer}\")"
   ]
  }
 ],
 "metadata": {
  "kernelspec": {
   "display_name": "Python 3",
   "language": "python",
   "name": "python3"
  },
  "language_info": {
   "codemirror_mode": {
    "name": "ipython",
    "version": 3
   },
   "file_extension": ".py",
   "mimetype": "text/x-python",
   "name": "python",
   "nbconvert_exporter": "python",
   "pygments_lexer": "ipython3",
   "version": "3.8.3"
  }
 },
 "nbformat": 4,
 "nbformat_minor": 4
}
