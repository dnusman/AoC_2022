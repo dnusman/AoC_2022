{
 "cells": [
  {
   "cell_type": "code",
   "execution_count": 44,
   "id": "cb45490f",
   "metadata": {},
   "outputs": [
    {
     "name": "stdout",
     "output_type": "stream",
     "text": [
      "$ cd /\n",
      "$ ls\n",
      "dir dcvzbqf\n",
      "23804 gsdpmrq.bsz\n",
      "24936 nfngbl.mcn\n",
      "178747 plw.frm\n",
      "dir qdtw\n",
      "dir qmfvph\n",
      "$ cd dcvzbqf\n",
      "$ ls\n",
      "dir gfvl\n",
      "$ cd gfvl\n",
      "$ ls\n",
      "104564 dnbmm.bgc\n",
      "$ cd ..\n",
      "$ cd ..\n",
      "$ cd qdtw\n",
      "$ ls\n",
      "dir fsj\n",
      "dir jwfb\n",
      "[('dir fsj\\ndir jwfbvmds\\n216592 pcg.wnr\\ndir pwnhpm\\ndir qbrpq\\ndir wdc\\ndir wpw\\ndir zbfgmw\\n', '\\n')]\n"
     ]
    }
   ],
   "source": [
    "import re\n",
    "\n",
    "with open(\"input7\") as f:\n",
    "    cmds = f.read()\n",
    "    \n",
    "print(cmds[:200])\n",
    "    \n",
    "def get_folder_size(folder_name, cmds):\n",
    "    folder_ls = re.findall(f\"\\$ cd {folder_name}\\n\\$ ls\\n((.|\\n)*?)\\$\", cmds)\n",
    "    print(folder_ls)\n"
   ]
  }
 ],
 "metadata": {
  "kernelspec": {
   "display_name": "Python 3 (ipykernel)",
   "language": "python",
   "name": "python3"
  },
  "language_info": {
   "codemirror_mode": {
    "name": "ipython",
    "version": 3
   },
   "file_extension": ".py",
   "mimetype": "text/x-python",
   "name": "python",
   "nbconvert_exporter": "python",
   "pygments_lexer": "ipython3",
   "version": "3.7.7"
  }
 },
 "nbformat": 4,
 "nbformat_minor": 5
}
