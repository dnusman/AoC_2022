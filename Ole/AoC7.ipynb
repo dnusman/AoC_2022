{
 "cells": [
  {
   "cell_type": "code",
   "execution_count": null,
   "metadata": {
    "scrolled": true
   },
   "outputs": [
    {
     "ename": "",
     "evalue": "",
     "output_type": "error",
     "traceback": [
      "\u001b[1;31mRunning cells with 'c:\\Users\\ter Haar Ole\\AppData\\Local\\Microsoft\\WindowsApps\\python3.10.exe' requires ipykernel package.\n",
      "\u001b[1;31mRun the following command to install 'ipykernel' into the Python environment. \n",
      "\u001b[1;31mCommand: '\"c:/Users/ter Haar Ole/AppData/Local/Microsoft/WindowsApps/python3.10.exe\" -m pip install ipykernel -U --user --force-reinstall'"
     ]
    }
   ],
   "source": [
    "import re\n",
    "with open(\"input7\") as f:\n",
    "    cmds = f.read().splitlines()\n",
    "\n",
    "cwd = []\n",
    "folders = {}\n",
    "folder_sizes = {}\n",
    "\n",
    "for cmd in cmds:\n",
    "    if cmd[:4] == \"$ cd\":\n",
    "        if cmd[5:] == \"..\":\n",
    "            cwd.pop()\n",
    "        else:\n",
    "            cwd.append(cmd[5:])\n",
    "        continue\n",
    "        \n",
    "    if cmd[:4] == \"$ ls\":\n",
    "        continue\n",
    "\n",
    "    path = \"/\".join(cwd)   \n",
    "    if path in folders:\n",
    "        folders[path].append(cmd)\n",
    "    else:\n",
    "        folders[path] = [cmd]\n",
    "    \n",
    "def get_folder_size(folder_name, folders, folder_sizes):\n",
    "    # takes folder name, list of folder commands, and folder sizes dict\n",
    "    if folder_name in folder_sizes:\n",
    "        return folder_sizes[folder_name], folders, folder_sizes\n",
    "    \n",
    "    size = 0\n",
    "    for lsline in folders[folder_name]:\n",
    "        if lsline[:3] == \"dir\":\n",
    "            fsize, _, folder_sizes = get_folder_size(folder_name + \"/\" + lsline[4:], folders, folder_sizes)\n",
    "            size += fsize\n",
    "        else:\n",
    "            size += int(re.findall(\"\\d+\\s\", lsline)[0].strip())\n",
    "        \n",
    "    folder_sizes[folder_name] = size\n",
    "    \n",
    "    print(f\"{folder_name} has size {size}\")\n",
    "        \n",
    "    return size, folders, folder_sizes\n",
    "        \n",
    "_, _, folder_sizes = get_folder_size('/', folders, folder_sizes)\n",
    "\n",
    "answer = sum([x for _ , x in folder_sizes.items() if x <= 100000])\n",
    "answer"
   ]
  },
  {
   "cell_type": "code",
   "execution_count": 82,
   "metadata": {},
   "outputs": [
    {
     "data": {
      "text/plain": [
       "1117448"
      ]
     },
     "execution_count": 82,
     "metadata": {},
     "output_type": "execute_result"
    }
   ],
   "source": [
    "free_space = 70000000-folder_sizes['/']\n",
    "free_space_needed = 30000000-free_space\n",
    "\n",
    "answer = min([x for _, x in folder_sizes.items() if x > free_space_needed])\n",
    "answer"
   ]
  }
 ],
 "metadata": {
  "kernelspec": {
   "display_name": "Python 3",
   "language": "python",
   "name": "python3"
  },
  "language_info": {
   "codemirror_mode": {
    "name": "ipython",
    "version": 3
   },
   "file_extension": ".py",
   "mimetype": "text/x-python",
   "name": "python",
   "nbconvert_exporter": "python",
   "pygments_lexer": "ipython3",
   "version": "3.10.9 (tags/v3.10.9:1dd9be6, Dec  6 2022, 20:01:21) [MSC v.1934 64 bit (AMD64)]"
  },
  "vscode": {
   "interpreter": {
    "hash": "6d3417c805763db08c60d11d4f1c3da543ef1131c482d8aa16fac2b9a0dfc1f8"
   }
  }
 },
 "nbformat": 4,
 "nbformat_minor": 4
}
