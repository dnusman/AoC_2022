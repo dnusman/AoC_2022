{
 "cells": [
  {
   "cell_type": "code",
   "execution_count": 44,
   "id": "fd5ee127",
   "metadata": {},
   "outputs": [
    {
     "data": {
      "text/plain": [
       "477"
      ]
     },
     "execution_count": 44,
     "metadata": {},
     "output_type": "execute_result"
    }
   ],
   "source": [
    "with open('input4') as f:\n",
    "    pairs = [x.split(',') for x in f.read().splitlines()]\n",
    "    \n",
    "def to_ints(range_string):\n",
    "    return [int(x) for x in range_string.split('-')]\n",
    "\n",
    "pairs = [[to_ints(x[0]), to_ints(x[1])] for x in pairs]\n",
    "\n",
    "redundant_elves = 0\n",
    "\n",
    "for [p1, p2] in pairs:\n",
    "    if min(p1) >= min(p2) and max(p1) <= max(p2) or min(p2) >= min(p1) and max(p2) <= max(p1):\n",
    "        redundant_elves += 1\n",
    "        \n",
    "redundant_elves    "
   ]
  },
  {
   "cell_type": "code",
   "execution_count": 45,
   "id": "d6490204",
   "metadata": {},
   "outputs": [
    {
     "data": {
      "text/plain": [
       "830"
      ]
     },
     "execution_count": 45,
     "metadata": {},
     "output_type": "execute_result"
    }
   ],
   "source": [
    "overlaps = 0\n",
    "\n",
    "for [p1, p2] in pairs:\n",
    "    r1 = set(range(p1[0], p1[1]+1))\n",
    "    r2 = set(range(p2[0], p2[1]+1))\n",
    "    if r1.intersection(r2):\n",
    "        overlaps += 1\n",
    "\n",
    "overlaps"
   ]
  }
 ],
 "metadata": {
  "kernelspec": {
   "display_name": "Python 3 (ipykernel)",
   "language": "python",
   "name": "python3"
  },
  "language_info": {
   "codemirror_mode": {
    "name": "ipython",
    "version": 3
   },
   "file_extension": ".py",
   "mimetype": "text/x-python",
   "name": "python",
   "nbconvert_exporter": "python",
   "pygments_lexer": "ipython3",
   "version": "3.7.7"
  }
 },
 "nbformat": 4,
 "nbformat_minor": 5
}
