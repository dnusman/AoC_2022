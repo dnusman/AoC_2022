{
 "cells": [
  {
   "cell_type": "markdown",
   "metadata": {},
   "source": [
    "Scoring:\n",
    "\n",
    "Opponents\n",
    "\n",
    "|Opponent | you | desc | score|\n",
    "|---------|-----|------|------|\n",
    "|A | X | Rock | 1|\n",
    "| B | Y | Paper | 2 |\n",
    "| C | Z | Siccors | 3 |"
   ]
  },
  {
   "cell_type": "code",
   "execution_count": 87,
   "metadata": {},
   "outputs": [
    {
     "data": {
      "text/plain": [
       "10116"
      ]
     },
     "execution_count": 87,
     "metadata": {},
     "output_type": "execute_result"
    }
   ],
   "source": [
    "import numpy as np\n",
    "\n",
    "\n",
    "with open(\"input2\") as f:\n",
    "    data = f.read().splitlines()\n",
    "    \n",
    "    \n",
    "turns = np.array([turn.split(' ') for turn in data])\n",
    "opp_turns = np.array(list(map(ord, turns[:, 0])))-64  # shift w/ 64 to get to 1, 2, 3\n",
    "\n",
    "# toggle for ex1\n",
    "my_turns = np.array(list(map(ord, turns[:, 1]))) - 87 # shift w/ 87 to get to 1, 2, 3\n",
    "\n",
    "# toggle for ex2\n",
    "outcomes = np.array(list(map(ord, turns[:, 1])))-89 # shift w/ 89 to get to -1, 0, 1\n",
    "my_turns = opp_turns + outcomes\n",
    "my_turns[my_turns==4] = 1\n",
    "my_turns[my_turns==0] = 3\n",
    "\n",
    "# difference\n",
    "differences = opp_turns - my_turns\n",
    "scoring = {\n",
    "    -2: 0, # R v S\n",
    "    -1: 6, # R v P or P v S\n",
    "    0: 3,  # draw\n",
    "    1: 0,  # P v R or S v P\n",
    "    2: 6   # S v R\n",
    "}\n",
    "wins = np.array([scoring[difference] for difference in differences])\n",
    "\n",
    "score = wins.sum() + my_turns.sum()\n",
    "score"
   ]
  },
  {
   "cell_type": "code",
   "execution_count": 92,
   "metadata": {},
   "outputs": [
    {
     "data": {
      "text/plain": [
       "(array([3, 2, 1, 3, 2, 2, 3, 1, 1, 2]),\n",
       " array([3, 1, 2, 3, 2, 3, 3, 2, 2, 1]),\n",
       " array([ 0,  1, -1,  0,  0, -1,  0, -1, -1,  1]))"
      ]
     },
     "execution_count": 92,
     "metadata": {},
     "output_type": "execute_result"
    }
   ],
   "source": [
    "my_turns[0:10], opp_turns[:10], outcomes[:10]"
   ]
  }
 ],
 "metadata": {
  "kernelspec": {
   "display_name": "Python 3",
   "language": "python",
   "name": "python3"
  },
  "language_info": {
   "codemirror_mode": {
    "name": "ipython",
    "version": 3
   },
   "file_extension": ".py",
   "mimetype": "text/x-python",
   "name": "python",
   "nbconvert_exporter": "python",
   "pygments_lexer": "ipython3",
   "version": "3.8.3"
  }
 },
 "nbformat": 4,
 "nbformat_minor": 4
}
