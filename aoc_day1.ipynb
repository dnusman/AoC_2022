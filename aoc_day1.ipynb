{
 "cells": [
  {
   "cell_type": "code",
   "execution_count": 59,
   "metadata": {},
   "outputs": [
    {
     "name": "stdout",
     "output_type": "stream",
     "text": [
      "Answer 1: 67658\n",
      "Answer 2: 200158\n"
     ]
    }
   ],
   "source": [
    "import pandas as pd\n",
    "\n",
    "with open(\"input1.txt\") as f:\n",
    "    data = f.read().split('\\n\\n')\n",
    "\n",
    "df = [x.split('\\n') for x in data]\n",
    "df = [[x for x in row if x != ''] for row in df]\n",
    "int_df = [[int(x) for x in row] for row in df]\n",
    "\n",
    "sum_df = [sum(x) for x in int_df]\n",
    "sum_df.sort(reverse=True)\n",
    "\n",
    "print('Answer 1: {0}'.format(sum_df[0]))\n",
    "print('Answer 2: {0}'.format(sum_df[0]+sum_df[1]+sum_df[2]))"
   ]
  }
 ],
 "metadata": {
  "kernelspec": {
   "display_name": "Python 3.8.3 ('base')",
   "language": "python",
   "name": "python3"
  },
  "language_info": {
   "codemirror_mode": {
    "name": "ipython",
    "version": 3
   },
   "file_extension": ".py",
   "mimetype": "text/x-python",
   "name": "python",
   "nbconvert_exporter": "python",
   "pygments_lexer": "ipython3",
   "version": "3.8.3"
  },
  "orig_nbformat": 4,
  "vscode": {
   "interpreter": {
    "hash": "27c777d8dbd377ffbadc2bdb4da609a829655af7f427d60ca35003daf0ec3727"
   }
  }
 },
 "nbformat": 4,
 "nbformat_minor": 2
}
