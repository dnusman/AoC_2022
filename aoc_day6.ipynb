{
 "cells": [
  {
   "cell_type": "code",
   "execution_count": 67,
   "metadata": {},
   "outputs": [
    {
     "name": "stdout",
     "output_type": "stream",
     "text": [
      "Answer 1:1625\n",
      "Answer 1:2250\n"
     ]
    }
   ],
   "source": [
    "with open(\"input6.txt\") as f:\n",
    "    data = f.read().split('\\n\\n')\n",
    "\n",
    "for opdracht in [4,14]:\n",
    "    check = False\n",
    "    i = 0\n",
    "    while(check == False):\n",
    "        list_strings = [data[0][i]]\n",
    "        for x in range(1,opdracht):\n",
    "            list_strings += data[0][i+x]\n",
    "        \n",
    "        if(len(set(list_strings)) == opdracht):\n",
    "            check = True\n",
    "        i+=1\n",
    "    print(f'Answer 1:{i+opdracht-1}')\n"
   ]
  }
 ],
 "metadata": {
  "kernelspec": {
   "display_name": "Python 3.8.3 ('base')",
   "language": "python",
   "name": "python3"
  },
  "language_info": {
   "codemirror_mode": {
    "name": "ipython",
    "version": 3
   },
   "file_extension": ".py",
   "mimetype": "text/x-python",
   "name": "python",
   "nbconvert_exporter": "python",
   "pygments_lexer": "ipython3",
   "version": "3.8.3"
  },
  "orig_nbformat": 4,
  "vscode": {
   "interpreter": {
    "hash": "27c777d8dbd377ffbadc2bdb4da609a829655af7f427d60ca35003daf0ec3727"
   }
  }
 },
 "nbformat": 4,
 "nbformat_minor": 2
}
