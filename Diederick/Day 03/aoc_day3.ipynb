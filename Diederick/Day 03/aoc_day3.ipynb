{
 "cells": [
  {
   "cell_type": "code",
   "execution_count": 26,
   "metadata": {},
   "outputs": [
    {
     "data": {
      "text/plain": [
       "0      ZNNvFWHqLNPZHHqPTHHnTGBhrrpjvmwfMmpfpjBjwpmw\n",
       "1                    sbdzQgzgssgbglRtmjlwhjBlfrSrMt\n",
       "2              zgsCRzJbsdRVQCDbcgLGWWLnZNGVLLZMNZnq\n",
       "3                      tvHhRtZGMvMHvfsrBBCTRbwbccRc\n",
       "4                qznnlpzzDppWlDpQpCrcrwnBNwTZnBTZrn\n",
       "                           ...                     \n",
       "295                                frsBbWhtSRzSLfRf\n",
       "296                  qDCqddbsWrqzhsdNmdJNJHjTggFFVV\n",
       "297                                NTWTDrSdFTLtPTGf\n",
       "298                          lZqjHlVRvRltLtRWFMtFLL\n",
       "299              qvjWzzvVbZpjqllggscdchwDrCphwsdhrD\n",
       "Name: 0, Length: 300, dtype: object"
      ]
     },
     "metadata": {},
     "output_type": "display_data"
    }
   ],
   "source": [
    "import pandas as pd\n",
    "import datetime\n",
    "import requests\n",
    "\n",
    "df = pd.read_csv(\"U:\\Desktop\\AOC_2022\\\\aoc_day3.csv\",header=None).squeeze()\n",
    "display(df)"
   ]
  },
  {
   "cell_type": "code",
   "execution_count": 27,
   "metadata": {},
   "outputs": [
    {
     "name": "stdout",
     "output_type": "stream",
     "text": [
      "Answer 1: 7878\n"
     ]
    }
   ],
   "source": [
    "def check_compartiments (row):\n",
    "\n",
    "    priorities = 0\n",
    "    first = row[:len(row)//2]\n",
    "    second = row[len(row)//2:]\n",
    "    for i in first:\n",
    "        if i in second:\n",
    "            if i.islower():\n",
    "                priorities += ord(i) - 96\n",
    "            else:\n",
    "                priorities += ord(i) - 38\n",
    "            break\n",
    "    return priorities\n",
    "        \n",
    "print(\"Answer 1: {0}\".format(df.apply(check_compartiments).sum()))\n"
   ]
  },
  {
   "cell_type": "code",
   "execution_count": 28,
   "metadata": {},
   "outputs": [
    {
     "name": "stdout",
     "output_type": "stream",
     "text": [
      "Answer 2: 2760\n"
     ]
    }
   ],
   "source": [
    "\n",
    "priorities = 0\n",
    "\n",
    "for i in range(len(df))[::3]:\n",
    "    first = df[i]\n",
    "    second = df[i+1]\n",
    "    third = df[i+2]\n",
    "\n",
    "    for i in first:\n",
    "        if i in second:\n",
    "            if i in third:\n",
    "                if i.islower():\n",
    "                    priorities += ord(i) - 96\n",
    "                else:\n",
    "                    priorities += ord(i) - 38\n",
    "                break\n",
    "\n",
    "print(\"Answer 2: {0}\".format(priorities))\n",
    "\n"
   ]
  }
 ],
 "metadata": {
  "kernelspec": {
   "display_name": "Python 3.8.3 ('base')",
   "language": "python",
   "name": "python3"
  },
  "language_info": {
   "codemirror_mode": {
    "name": "ipython",
    "version": 3
   },
   "file_extension": ".py",
   "mimetype": "text/x-python",
   "name": "python",
   "nbconvert_exporter": "python",
   "pygments_lexer": "ipython3",
   "version": "3.8.3"
  },
  "orig_nbformat": 4,
  "vscode": {
   "interpreter": {
    "hash": "27c777d8dbd377ffbadc2bdb4da609a829655af7f427d60ca35003daf0ec3727"
   }
  }
 },
 "nbformat": 4,
 "nbformat_minor": 2
}
