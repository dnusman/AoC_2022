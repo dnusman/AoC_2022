{
 "cells": [
  {
   "cell_type": "code",
   "execution_count": 35,
   "metadata": {},
   "outputs": [
    {
     "name": "stdout",
     "output_type": "stream",
     "text": [
      "[['H', 'C', 'R'], ['B', 'J', 'H', 'L', 'S', 'F'], ['R', 'M', 'D', 'H', 'J', 'T', 'Q'], ['S', 'G', 'R', 'H', 'Z', 'B', 'J'], ['R', 'P', 'F', 'Z', 'T', 'D', 'C', 'B'], ['T', 'H', 'C', 'G'], ['S', 'N', 'V', 'Z', 'B', 'P', 'W', 'L'], ['R', 'J', 'Q', 'G', 'C'], ['L', 'D', 'T', 'R', 'H', 'P', 'F', 'S']]\n"
     ]
    }
   ],
   "source": [
    "\n",
    "import re\n",
    "import numpy as np\n",
    "import pandas as pd\n",
    "import copy\n",
    "\n",
    "short = False\n",
    "\n",
    "with open(\"aoc_day5_full.csv\") as f:\n",
    "    data = f.read().split('\\n\\n')\n",
    "\n",
    "data[0]\n",
    "stacks = data[0].splitlines()[:-1]\n",
    "stacks = np.matrix([[x[i] for i in range(1,34,4)] for x in stacks]).T[:,::-1].tolist()\n",
    "stacks = [[cell for cell in row if cell != \" \"] for row in stacks]\n",
    "\n",
    "print(stacks)\n"
   ]
  },
  {
   "cell_type": "code",
   "execution_count": 36,
   "metadata": {},
   "outputs": [
    {
     "data": {
      "text/html": [
       "<div>\n",
       "<style scoped>\n",
       "    .dataframe tbody tr th:only-of-type {\n",
       "        vertical-align: middle;\n",
       "    }\n",
       "\n",
       "    .dataframe tbody tr th {\n",
       "        vertical-align: top;\n",
       "    }\n",
       "\n",
       "    .dataframe thead th {\n",
       "        text-align: right;\n",
       "    }\n",
       "</style>\n",
       "<table border=\"1\" class=\"dataframe\">\n",
       "  <thead>\n",
       "    <tr style=\"text-align: right;\">\n",
       "      <th></th>\n",
       "      <th>moves</th>\n",
       "      <th>from</th>\n",
       "      <th>to</th>\n",
       "    </tr>\n",
       "  </thead>\n",
       "  <tbody>\n",
       "    <tr>\n",
       "      <th>0</th>\n",
       "      <td>8</td>\n",
       "      <td>6</td>\n",
       "      <td>0</td>\n",
       "    </tr>\n",
       "    <tr>\n",
       "      <th>1</th>\n",
       "      <td>9</td>\n",
       "      <td>0</td>\n",
       "      <td>8</td>\n",
       "    </tr>\n",
       "    <tr>\n",
       "      <th>2</th>\n",
       "      <td>4</td>\n",
       "      <td>4</td>\n",
       "      <td>3</td>\n",
       "    </tr>\n",
       "    <tr>\n",
       "      <th>3</th>\n",
       "      <td>4</td>\n",
       "      <td>5</td>\n",
       "      <td>0</td>\n",
       "    </tr>\n",
       "    <tr>\n",
       "      <th>4</th>\n",
       "      <td>3</td>\n",
       "      <td>7</td>\n",
       "      <td>4</td>\n",
       "    </tr>\n",
       "    <tr>\n",
       "      <th>...</th>\n",
       "      <td>...</td>\n",
       "      <td>...</td>\n",
       "      <td>...</td>\n",
       "    </tr>\n",
       "    <tr>\n",
       "      <th>498</th>\n",
       "      <td>7</td>\n",
       "      <td>5</td>\n",
       "      <td>2</td>\n",
       "    </tr>\n",
       "    <tr>\n",
       "      <th>499</th>\n",
       "      <td>1</td>\n",
       "      <td>3</td>\n",
       "      <td>0</td>\n",
       "    </tr>\n",
       "    <tr>\n",
       "      <th>500</th>\n",
       "      <td>7</td>\n",
       "      <td>2</td>\n",
       "      <td>1</td>\n",
       "    </tr>\n",
       "    <tr>\n",
       "      <th>501</th>\n",
       "      <td>3</td>\n",
       "      <td>2</td>\n",
       "      <td>4</td>\n",
       "    </tr>\n",
       "    <tr>\n",
       "      <th>502</th>\n",
       "      <td>2</td>\n",
       "      <td>3</td>\n",
       "      <td>6</td>\n",
       "    </tr>\n",
       "  </tbody>\n",
       "</table>\n",
       "<p>503 rows × 3 columns</p>\n",
       "</div>"
      ],
      "text/plain": [
       "     moves  from  to\n",
       "0        8     6   0\n",
       "1        9     0   8\n",
       "2        4     4   3\n",
       "3        4     5   0\n",
       "4        3     7   4\n",
       "..     ...   ...  ..\n",
       "498      7     5   2\n",
       "499      1     3   0\n",
       "500      7     2   1\n",
       "501      3     2   4\n",
       "502      2     3   6\n",
       "\n",
       "[503 rows x 3 columns]"
      ]
     },
     "metadata": {},
     "output_type": "display_data"
    }
   ],
   "source": [
    "df = data[1].splitlines()\n",
    "\n",
    "df = [w.replace('move ', '')  for w in df]\n",
    "df = [w.replace('from ', '')  for w in df]\n",
    "df = [w.replace('to ', '')  for w in df]\n",
    "\n",
    "df = [i.split(' ',2) for i in df]\n",
    "df = pd.DataFrame(df,columns = ['moves','from', 'to']).astype('int')\n",
    "df['from'] =df['from'] -1\n",
    "df['to'] =df['to'] -1\n",
    "display(df)"
   ]
  },
  {
   "cell_type": "code",
   "execution_count": 37,
   "metadata": {},
   "outputs": [],
   "source": [
    "def move_crate(stack,moves,from_stack,to_stack):\n",
    "    for _ in range(moves):\n",
    "        stack[to_stack].extend(stack[from_stack][-1])\n",
    "        stack[from_stack].pop()\n",
    "    return stack\n",
    "    "
   ]
  },
  {
   "cell_type": "code",
   "execution_count": 38,
   "metadata": {},
   "outputs": [
    {
     "data": {
      "text/plain": [
       "'Answer 1: SHQWSRBDL'"
      ]
     },
     "execution_count": 38,
     "metadata": {},
     "output_type": "execute_result"
    }
   ],
   "source": [
    "stacks_1 = copy.deepcopy(stacks)\n",
    "\n",
    "for i in range(len(df)):\n",
    "    stacks_1 = move_crate(stacks_1,df.iloc[i]['moves'],df.iloc[i]['from'],df.iloc[i]['to'])\n",
    "\n",
    "str_1 = \"\"\n",
    "for i in range(len(stacks_1)):\n",
    "    str_1 += stacks_1[i][-1]\n",
    "\n",
    "f'Answer 1: {str_1}'"
   ]
  },
  {
   "cell_type": "code",
   "execution_count": 39,
   "metadata": {},
   "outputs": [
    {
     "data": {
      "text/plain": [
       "'Answer 2: CDTQZHBRS'"
      ]
     },
     "execution_count": 39,
     "metadata": {},
     "output_type": "execute_result"
    }
   ],
   "source": [
    "stacks_2 = copy.deepcopy(stacks)\n",
    "\n",
    "for i in range(len(df)):\n",
    "    stacks_2[df.iloc[i]['to']].extend(stacks_2[df.iloc[i]['from']][-df.iloc[i]['moves']:])\n",
    "    del stacks_2[df.iloc[i]['from']][-df.iloc[i]['moves']:]\n",
    "\n",
    "str_2 = \"\"\n",
    "for i in range(len(stacks_2)):\n",
    "    str_2 += stacks_2[i][-1]\n",
    "\n",
    "f'Answer 2: {str_2}' \n"
   ]
  }
 ],
 "metadata": {
  "kernelspec": {
   "display_name": "Python 3.8.3 ('base')",
   "language": "python",
   "name": "python3"
  },
  "language_info": {
   "codemirror_mode": {
    "name": "ipython",
    "version": 3
   },
   "file_extension": ".py",
   "mimetype": "text/x-python",
   "name": "python",
   "nbconvert_exporter": "python",
   "pygments_lexer": "ipython3",
   "version": "3.8.3"
  },
  "orig_nbformat": 4,
  "vscode": {
   "interpreter": {
    "hash": "27c777d8dbd377ffbadc2bdb4da609a829655af7f427d60ca35003daf0ec3727"
   }
  }
 },
 "nbformat": 4,
 "nbformat_minor": 2
}
