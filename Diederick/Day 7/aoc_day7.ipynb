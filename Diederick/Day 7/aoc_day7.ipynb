{
 "cells": [
  {
   "cell_type": "code",
   "execution_count": 6,
   "metadata": {},
   "outputs": [],
   "source": [
    "import pandas as pd\n",
    "import datetime\n",
    "import requests\n",
    "\n",
    "small = True\n",
    "if small:\n",
    "    with open('input7_small.txt') as f:\n",
    "        data = f.read().split('\\n')\n",
    "else:\n",
    "    with open('input7.txt') as f:\n",
    "        data = f.read().split('\\n')\n",
    "        data.pop()\n"
   ]
  },
  {
   "cell_type": "code",
   "execution_count": 7,
   "metadata": {},
   "outputs": [],
   "source": [
    "#create list with current working directory level /a/e = ['a','e']\n",
    "def update_working_directory(line):\n",
    "  global current_directory,ls_statement\n",
    "  if line == '$ cd /':\n",
    "    current_directory = []\n",
    "  elif line == '$ cd ..':\n",
    "    current_directory = current_directory[:len(current_directory)-1]\n",
    "  elif '$ cd' in line:\n",
    "    current_directory.append(line[5:])\n",
    "\n",
    "def get_directory_size(dir):\n",
    "  if dir.startswith('//'):\n",
    "    dir = dir[1:]\n",
    "  if dir in directory_size:\n",
    "    return directory_size[dir]\n",
    "  total = 0\n",
    "  if dir in files:\n",
    "    for file in files[dir]:\n",
    "      total += sizes[dir +'/' + file]\n",
    "  if dir in sub_directories:\n",
    "    for d in sub_directories[dir]:\n",
    "      total += get_directory_size(dir + '/' + d)\n",
    "  directory_size[dir] = total\n",
    "  return total"
   ]
  },
  {
   "cell_type": "code",
   "execution_count": 8,
   "metadata": {},
   "outputs": [
    {
     "data": {
      "text/plain": [
       "'Answer 1:95437'"
      ]
     },
     "execution_count": 8,
     "metadata": {},
     "output_type": "execute_result"
    }
   ],
   "source": [
    "current_directory = [] \n",
    "sub_directories = {}\n",
    "files = {}\n",
    "sizes = {}\n",
    "ls_statement = False\n",
    "\n",
    "directory_size = {}\n",
    "\n",
    "for cmd in data:\n",
    "  dir = '/' + '/'.join(current_directory)\n",
    "  if '$' in cmd:\n",
    "    update_working_directory(cmd)\n",
    "  elif cmd.startswith('dir '):\n",
    "    if dir not in sub_directories:\n",
    "      sub_directories[dir] = []\n",
    "    sub_directories[dir].append(cmd[4:])\n",
    "  else:\n",
    "    (size,file) = cmd.split(' ')\n",
    "    if dir not in files:\n",
    "      files[dir] = []\n",
    "    files[dir].append(file)\n",
    "    sizes[dir + '/' + file] = int(size)\n",
    "\n",
    "get_directory_size('/')\n",
    "\n",
    "ans_1 = 0\n",
    "for d in directory_size:\n",
    "  if directory_size[d] <= 100000:\n",
    "    ans_1 += directory_size[d]\n",
    "\n",
    "f'Answer 1:{ans_1}'\n"
   ]
  },
  {
   "cell_type": "code",
   "execution_count": 10,
   "metadata": {},
   "outputs": [
    {
     "data": {
      "text/plain": [
       "'Answer 2:24933642'"
      ]
     },
     "execution_count": 10,
     "metadata": {},
     "output_type": "execute_result"
    }
   ],
   "source": [
    "free_space = 70000000 - directory_size['/']\n",
    "space_needed = 30000000 - free_space\n",
    "\n",
    "ans_2 = min([directory_size[dir] for dir in directory_size if directory_size[dir] >= space_needed])\n",
    "f'Answer 2:{ans_2}'\n"
   ]
  }
 ],
 "metadata": {
  "kernelspec": {
   "display_name": "Python 3.8.3 ('base')",
   "language": "python",
   "name": "python3"
  },
  "language_info": {
   "codemirror_mode": {
    "name": "ipython",
    "version": 3
   },
   "file_extension": ".py",
   "mimetype": "text/x-python",
   "name": "python",
   "nbconvert_exporter": "python",
   "pygments_lexer": "ipython3",
   "version": "3.8.3 (default, Jul  2 2020, 17:30:36) [MSC v.1916 64 bit (AMD64)]"
  },
  "orig_nbformat": 4,
  "vscode": {
   "interpreter": {
    "hash": "27c777d8dbd377ffbadc2bdb4da609a829655af7f427d60ca35003daf0ec3727"
   }
  }
 },
 "nbformat": 4,
 "nbformat_minor": 2
}
