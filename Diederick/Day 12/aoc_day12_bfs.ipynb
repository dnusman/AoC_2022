{
 "cells": [
  {
   "cell_type": "code",
   "execution_count": 5,
   "metadata": {},
   "outputs": [
    {
     "name": "stdout",
     "output_type": "stream",
     "text": [
      "Answer 1:330\n",
      "Answer 2:321\n"
     ]
    }
   ],
   "source": [
    "import os\n",
    "import numpy as np\n",
    "import matplotlib.pyplot as plt\n",
    "from collections import deque\n",
    "\n",
    "os.chdir('U:/Desktop/AOC_2022/')\n",
    "\n",
    "small = False\n",
    "\n",
    "if small:\n",
    "    with open('input12_small.txt') as f:\n",
    "        data = f.read().splitlines()\n",
    "else: \n",
    "    with open('input12.txt') as f:\n",
    "        data = f.read().splitlines()\n",
    "\n",
    "grid = [list(x) for x in data]\n",
    "\n",
    "for r,row in enumerate(grid):\n",
    "    for c,char in enumerate(row):\n",
    "        if char == \"S\":\n",
    "            sr = r\n",
    "            sc = c\n",
    "            grid[r][c] = \"a\"\n",
    "        if char == \"E\":\n",
    "            er = r\n",
    "            ec = c\n",
    "            grid[r][c] = \"z\"\n",
    "\n",
    "q = deque()\n",
    "q.append((0,er,ec)) ## append = append_right, so pop on the other side using popleft, or vice versa\n",
    "vis = set((er,ec))\n",
    "\n",
    "while q:\n",
    "    d,r,c = q.popleft()\n",
    "    \n",
    "    for nr,nc in [(r+1,c),(r-1,c),(r,c+1),(r,c-1)]:\n",
    "        if nr < 0 or nc < 0 or nr >= len(grid) or nc >= len(grid[0]):\n",
    "            continue\n",
    "        if (nr,nc) in vis:\n",
    "            continue\n",
    "        if (ord(grid[nr][nc]) - ord(grid[r][c])) < -1:\n",
    "            continue\n",
    "        if nr == sr and nc == sc:   #part 1\n",
    "            ans_1 = d+1\n",
    "\n",
    "        if grid[nr][nc] == 'a':   #part 2\n",
    "\n",
    "            ans_2 = d+1\n",
    "            q = deque()\n",
    "            continue\n",
    "\n",
    "        \n",
    "        vis.add((nr,nc))\n",
    "        q.append((d+1,nr,nc))\n",
    "\n",
    "\n",
    "print(f'Answer 1:{ans_1}')\n",
    "print(f'Answer 2:{ans_2}')\n",
    "\n",
    "\n",
    "\n",
    "\n",
    "\n"
   ]
  }
 ],
 "metadata": {
  "kernelspec": {
   "display_name": "base",
   "language": "python",
   "name": "python3"
  },
  "language_info": {
   "codemirror_mode": {
    "name": "ipython",
    "version": 3
   },
   "file_extension": ".py",
   "mimetype": "text/x-python",
   "name": "python",
   "nbconvert_exporter": "python",
   "pygments_lexer": "ipython3",
   "version": "3.8.3 (default, Jul  2 2020, 17:30:36) [MSC v.1916 64 bit (AMD64)]"
  },
  "orig_nbformat": 4,
  "vscode": {
   "interpreter": {
    "hash": "27c777d8dbd377ffbadc2bdb4da609a829655af7f427d60ca35003daf0ec3727"
   }
  }
 },
 "nbformat": 4,
 "nbformat_minor": 2
}
