{
 "cells": [
  {
   "cell_type": "code",
   "execution_count": null,
   "metadata": {},
   "outputs": [],
   "source": [
    "import os\n",
    "import numpy as np\n",
    "os.chdir('U:/Desktop/AOC_2022/')\n",
    "\n",
    "small = False\n",
    "\n",
    "if small:\n",
    "    with open('input12_small.txt') as f:\n",
    "        data = f.read().splitlines()\n",
    "else: \n",
    "    with open('input12.txt') as f:\n",
    "        data = f.read().splitlines()\n",
    "        \n",
    "data = [x.replace('S','`') for x in data]\n",
    "data = [x.replace('E','{') for x in data]\n",
    "\n",
    "df = [[ord(x) for x in cell] for cell in data]\n",
    "df_mat = np.array(df)"
   ]
  },
  {
   "cell_type": "code",
   "execution_count": null,
   "metadata": {},
   "outputs": [],
   "source": [
    "start = np.where(df_mat == 96)\n",
    "x_start = start[0][0]\n",
    "y_start = start[1][0]\n",
    "print('start: (',x_start,\",\",y_start,')')\n",
    "\n",
    "end = np.where(df_mat == 123)\n",
    "x_end = end[0][0]\n",
    "y_end = end[1][0]\n",
    "\n",
    "print('end: (',x_end,\",\",y_end,')')\n"
   ]
  },
  {
   "cell_type": "code",
   "execution_count": null,
   "metadata": {},
   "outputs": [],
   "source": [
    "m = df_mat.shape[0]\n",
    "n = df_mat.shape[1]\n"
   ]
  },
  {
   "cell_type": "code",
   "execution_count": null,
   "metadata": {},
   "outputs": [],
   "source": [
    "def check_diff(mat,x1,y1,x2,y2):\n",
    "    # if x2 < 0 or y2 < 0:\n",
    "        # return -1\n",
    "    return mat[x2,y2] - mat[x1,y1] \n",
    "\n",
    "\n",
    "\n",
    "# Define a function to find all possible paths from (a,b) to (c,d)\n",
    "def find_paths(a, b, c, d, matrix, path, visited):\n",
    "    global solution\n",
    "    # If the current position is the end point, add the path to the list of paths\n",
    "    \n",
    "    if len(path) >= solution:\n",
    "        return\n",
    "\n",
    "    if a == c and b == d:\n",
    "        print('path found with length:', len(path))\n",
    "        if len(path) < solution:\n",
    "            print('current solution:', solution)\n",
    "            print('newest shortest path: ',len(path))\n",
    "\n",
    "            solution = len(path)\n",
    "            # paths.append(path)\n",
    "            return \n",
    "\n",
    "    # Mark the current position as visited\n",
    "    visited[a][b] = True\n",
    "    \n",
    "    \n",
    "    # Explore all possible paths from the current position\n",
    "    for (i, j) in [(a-1,b), (a+1,b), (a,b-1), (a,b+1)]:\n",
    "        # Check if the next position is valid and not visited\n",
    "        if 0 <= i < m and 0 <= j < n and not visited[i][j] and 0 <= check_diff(matrix,a,b,i,j) <= 1:\n",
    "            # Add the next position to the path and continue exploring from there\n",
    "            find_paths(i, j, c, d, matrix, path + [(i, j)], visited)\n",
    "    \n",
    "    # Mark the current position as not visited\n",
    "    visited[a][b] = False"
   ]
  },
  {
   "cell_type": "code",
   "execution_count": null,
   "metadata": {},
   "outputs": [],
   "source": [
    " # Initialize a list to store the paths\n",
    "paths = []\n",
    "\n",
    "# Initialize a matrix to store the visited positions\n",
    "visited = np.zeros(df_mat.shape,dtype=bool)\n",
    "\n",
    "solution = 400\n",
    "\n",
    "# Find all possible paths from (a,b) to (c,d)\n",
    "find_paths(x_start, y_start, x_end, y_end, df_mat, [(0, 0)], visited)\n",
    "\n"
   ]
  },
  {
   "cell_type": "code",
   "execution_count": 2,
   "metadata": {},
   "outputs": [
    {
     "name": "stdout",
     "output_type": "stream",
     "text": [
      "start: ( 20 , 0 )\n",
      "end: ( 20 , 36 )\n",
      "330\n"
     ]
    }
   ],
   "source": [
    "import numpy as np\n",
    "import os\n",
    "os.chdir('U:/Desktop/AOC_2022/')\n",
    "\n",
    "with open(\"input12.txt\") as f:\n",
    "    heights = [list(x) for x in f.read().splitlines()]\n",
    "\n",
    "start_y = [y for y in range(len(heights)) if 'S' in heights[y]][0]\n",
    "start_x = heights[start_y].index('S')\n",
    "\n",
    "end_y = [y for y in range(len(heights)) if 'E' in heights[y]][0]\n",
    "end_x = heights[end_y].index('E')\n",
    "\n",
    "print('start: (',start_y,\",\",start_x,')')\n",
    "print('end: (',end_y,\",\",end_x,')')\n",
    "\n",
    "heights[start_y][start_x] = \"a\"\n",
    "heights[end_y][end_x] = \"z\"\n",
    "\n",
    "heights = [list(map(lambda x: ord(x)-96, x)) for x in heights]\n",
    "Y = len(heights)\n",
    "X = len(heights[0])\n",
    "\n",
    "fastest = [[X*Y]*X for _ in range(Y)]\n",
    "fastest[start_y][start_x] = 0\n",
    "\n",
    "\n",
    "# # comment for pt1, uncomment for pt2\n",
    "# for x in range(X):\n",
    "#     for y in range(Y):\n",
    "#         if heights[y][x] == 1:\n",
    "#             fastest[y][x] = 0\n",
    "# # end pt2 mod\n",
    "\n",
    "paths_updated = 1 # set to 1 to enter loop\n",
    "loop_stop = 0\n",
    "\n",
    "while loop_stop < 10:\n",
    "    \n",
    "    paths_updated = 0\n",
    "    \n",
    "    # loop over cells\n",
    "    for x in range(X):\n",
    "        for y in range(Y):\n",
    "               \n",
    "            # find the adjecent cells that are accessible\n",
    "            for d in [[1, 0], [-1, 0], [0, 1], [0, -1]]:\n",
    "                new_y = y + d[0]\n",
    "                new_x = x + d[1]\n",
    "                \n",
    "                # check if valid step\n",
    "                if new_y < 0 or new_y >= Y or new_x < 0 or new_x >= X or heights[new_y][new_x] > heights[y][x]+1:\n",
    "                    continue\n",
    "                \n",
    "                # update path length with current tile + 1\n",
    "                if fastest[new_y][new_x] > fastest[y][x]+1:\n",
    "                    fastest[new_y][new_x] = fastest[y][x]+1\n",
    "                    paths_updated += 1\n",
    "    \n",
    "    #print(f\"current solution is {fastest[end_y][end_x]}\")\n",
    "            \n",
    "    if paths_updated == 0:\n",
    "        loop_stop += 1\n",
    "    else:\n",
    "        loop_stop = 0\n",
    "\n",
    "print(fastest[end_y][end_x])"
   ]
  },
  {
   "cell_type": "code",
   "execution_count": null,
   "metadata": {},
   "outputs": [],
   "source": []
  }
 ],
 "metadata": {
  "kernelspec": {
   "display_name": "base",
   "language": "python",
   "name": "python3"
  },
  "language_info": {
   "codemirror_mode": {
    "name": "ipython",
    "version": 3
   },
   "file_extension": ".py",
   "mimetype": "text/x-python",
   "name": "python",
   "nbconvert_exporter": "python",
   "pygments_lexer": "ipython3",
   "version": "3.8.3"
  },
  "orig_nbformat": 4,
  "vscode": {
   "interpreter": {
    "hash": "27c777d8dbd377ffbadc2bdb4da609a829655af7f427d60ca35003daf0ec3727"
   }
  }
 },
 "nbformat": 4,
 "nbformat_minor": 2
}
