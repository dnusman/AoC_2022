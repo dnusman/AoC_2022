{
 "cells": [
  {
   "cell_type": "code",
   "execution_count": 176,
   "metadata": {},
   "outputs": [],
   "source": [
    "import os\n",
    "import numpy as np\n",
    "from collections import defaultdict\n",
    "\n",
    "os.chdir('U:/Desktop/AOC_2022/')\n",
    "\n",
    "small = False\n",
    "\n",
    "if small:\n",
    "    with open('input12_small.txt') as f:\n",
    "        data = f.read().splitlines()\n",
    "else: \n",
    "    with open('input12.txt') as f:\n",
    "        data = f.read().splitlines()\n",
    "        "
   ]
  },
  {
   "cell_type": "code",
   "execution_count": 177,
   "metadata": {},
   "outputs": [],
   "source": [
    "heightmap = {}\n",
    "starts = []\n",
    "for y, line in enumerate(data):\n",
    "    for x, height_char in enumerate(line):\n",
    "        if height_char == \"S\":\n",
    "            start = (x, y)\n",
    "            height = ord(\"a\")\n",
    "        elif height_char == \"E\":\n",
    "            end = (x, y)\n",
    "            height = ord(\"z\")\n",
    "        else:\n",
    "            if height_char == \"a\":\n",
    "                starts.append((x, y))\n",
    "\n",
    "            height = ord(height_char)\n",
    "\n",
    "        heightmap[(x, y)] = height\n",
    "\n",
    "starts = [start] + starts\n"
   ]
  },
  {
   "cell_type": "code",
   "execution_count": 178,
   "metadata": {},
   "outputs": [],
   "source": [
    "def neighbours(heightmap, coordinate):\n",
    "    x,y = coordinate\n",
    "    adjacent = [(x-1,y),(x+1,y),(x,y-1),(x,y+1)]\n",
    "    return [c for c in adjacent if (c in heightmap) and (heightmap[c] <= (heightmap[coordinate] +1))]"
   ]
  },
  {
   "cell_type": "code",
   "execution_count": 179,
   "metadata": {},
   "outputs": [],
   "source": [
    "path = set()\n",
    "\n",
    "def find_paths(heightmap,start,end):\n",
    "    queue = {start:0}\n",
    "    path_quickest = {start: 0}\n",
    "    \n",
    "    iter = 0\n",
    "    while queue:\n",
    "        queue = {k: v for k, v in sorted(queue.items(), key=lambda item: item[1],reverse=True)}\n",
    "        coordinate,n_steps = queue.popitem()\n",
    "\n",
    "        path.add(coordinate)\n",
    "\n",
    "        if coordinate == end:\n",
    "            return n_steps\n",
    "        \n",
    "        for neighbour in neighbours(heightmap,coordinate):\n",
    "            n_steps_new = n_steps +1\n",
    "            \n",
    "            if (neighbour not in path_quickest.keys()) or (n_steps_new < path_quickest[neighbour] and neighbour not in path_quickest.keys()):\n",
    "                path_quickest[neighbour] = n_steps_new\n",
    "                queue[neighbour] = n_steps_new\n",
    "               \n"
   ]
  },
  {
   "cell_type": "code",
   "execution_count": 180,
   "metadata": {},
   "outputs": [
    {
     "name": "stdout",
     "output_type": "stream",
     "text": [
      "Answer 1: 330\n"
     ]
    }
   ],
   "source": [
    "starts_n_steps = find_paths(heightmap,start,end) #for start in starts]\n",
    "print(f'Answer 1: {starts_n_steps}')\n",
    "# print(f'Answer 2: {min(x for x in starts_n_steps if x is not None)}')\n",
    "\n",
    "\n"
   ]
  },
  {
   "cell_type": "code",
   "execution_count": null,
   "metadata": {},
   "outputs": [],
   "source": [
    "\n",
    "\n"
   ]
  }
 ],
 "metadata": {
  "kernelspec": {
   "display_name": "base",
   "language": "python",
   "name": "python3"
  },
  "language_info": {
   "codemirror_mode": {
    "name": "ipython",
    "version": 3
   },
   "file_extension": ".py",
   "mimetype": "text/x-python",
   "name": "python",
   "nbconvert_exporter": "python",
   "pygments_lexer": "ipython3",
   "version": "3.8.3"
  },
  "orig_nbformat": 4,
  "vscode": {
   "interpreter": {
    "hash": "27c777d8dbd377ffbadc2bdb4da609a829655af7f427d60ca35003daf0ec3727"
   }
  }
 },
 "nbformat": 4,
 "nbformat_minor": 2
}
