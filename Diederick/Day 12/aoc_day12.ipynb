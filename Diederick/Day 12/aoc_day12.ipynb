{
 "cells": [
  {
   "cell_type": "code",
   "execution_count": 2,
   "metadata": {},
   "outputs": [],
   "source": [
    "import os\n",
    "import numpy as np\n",
    "import matplotlib.pyplot as plt\n",
    "\n",
    "# os.chdir('U:/Desktop/AOC_2022/')\n",
    "\n",
    "small = False\n",
    "\n",
    "if small:\n",
    "    with open('input12_small.txt') as f:\n",
    "        data = f.read().splitlines()\n",
    "else: \n",
    "    with open('input12.txt') as f:\n",
    "        data = f.read().splitlines()\n",
    "        "
   ]
  },
  {
   "cell_type": "code",
   "execution_count": 3,
   "metadata": {},
   "outputs": [],
   "source": [
    "heightmap = {}\n",
    "starts = []\n",
    "for y, line in enumerate(data):\n",
    "    max_y = y\n",
    "    for x, height_char in enumerate(line):\n",
    "        max_x=x\n",
    "        if height_char == \"S\":\n",
    "            start = (x, y)\n",
    "            height = ord(\"a\")\n",
    "        elif height_char == \"E\":\n",
    "            end = (x, y)\n",
    "            height = ord(\"z\")\n",
    "        else:\n",
    "            if height_char == \"a\":\n",
    "                starts.append((x, y))\n",
    "\n",
    "            height = ord(height_char)\n",
    "\n",
    "        heightmap[(x, y)] = height\n",
    "\n",
    "starts = [start] + starts\n"
   ]
  },
  {
   "cell_type": "code",
   "execution_count": 4,
   "metadata": {},
   "outputs": [],
   "source": [
    "def neighbours(heightmap, coordinate):\n",
    "    x,y = coordinate\n",
    "    adjacent = [(x-1,y),(x+1,y),(x,y-1),(x,y+1)]\n",
    "    return [c for c in adjacent if (c in heightmap) and (heightmap[c] <= (heightmap[coordinate] +1))]"
   ]
  },
  {
   "cell_type": "code",
   "execution_count": 5,
   "metadata": {},
   "outputs": [],
   "source": [
    "\n",
    "\n",
    "def find_paths(heightmap,start,end):\n",
    "\n",
    "    queue = {start:0}\n",
    "    path_quickest = {start:0}\n",
    "    \n",
    "    while queue:\n",
    "        queue = {k: v for k, v in sorted(queue.items(), key=lambda item: item[1],reverse=True)}\n",
    "        coordinate,n_steps = queue.popitem()\n",
    "\n",
    "        if coordinate == end:\n",
    "            return n_steps\n",
    "        \n",
    "        for neighbour in neighbours(heightmap,coordinate):\n",
    "            n_steps_new = n_steps +1\n",
    "            \n",
    "            if (neighbour not in path_quickest.keys()) or (n_steps_new < path_quickest[neighbour]):\n",
    "                path_quickest[neighbour] = n_steps_new\n",
    "                queue[neighbour] = n_steps_new\n",
    "               \n"
   ]
  },
  {
   "cell_type": "code",
   "execution_count": 6,
   "metadata": {},
   "outputs": [
    {
     "name": "stdout",
     "output_type": "stream",
     "text": [
      "Answer 1: 330\n",
      "Answer 2: 321\n"
     ]
    }
   ],
   "source": [
    "steps = [find_paths(heightmap,start,end) for start in starts]\n",
    "print(f'Answer 1: {steps[0]}')\n",
    "print(f'Answer 2: {min(x for x in steps if x is not None)}')\n"
   ]
  },
  {
   "cell_type": "code",
   "execution_count": 7,
   "metadata": {},
   "outputs": [
    {
     "ename": "NameError",
     "evalue": "name 'path_quickest' is not defined",
     "output_type": "error",
     "traceback": [
      "\u001b[1;31m---------------------------------------------------------------------------\u001b[0m",
      "\u001b[1;31mNameError\u001b[0m                                 Traceback (most recent call last)",
      "Cell \u001b[1;32mIn[7], line 3\u001b[0m\n\u001b[0;32m      1\u001b[0m matrix \u001b[39m=\u001b[39m np\u001b[39m.\u001b[39mzeros([max_y\u001b[39m+\u001b[39m\u001b[39m1\u001b[39m,max_x\u001b[39m+\u001b[39m\u001b[39m1\u001b[39m])\n\u001b[1;32m----> 3\u001b[0m \u001b[39mfor\u001b[39;00m k,v \u001b[39min\u001b[39;00m path_quickest\u001b[39m.\u001b[39mitems():\n\u001b[0;32m      4\u001b[0m     matrix[k[\u001b[39m1\u001b[39m],k[\u001b[39m0\u001b[39m]] \u001b[39m=\u001b[39m v\n\u001b[0;32m      6\u001b[0m fig, ax \u001b[39m=\u001b[39m plt\u001b[39m.\u001b[39msubplots(figsize\u001b[39m=\u001b[39m(\u001b[39m10\u001b[39m,\u001b[39m10\u001b[39m))\n",
      "\u001b[1;31mNameError\u001b[0m: name 'path_quickest' is not defined"
     ]
    }
   ],
   "source": [
    "matrix = np.zeros([max_y+1,max_x+1])\n",
    "\n",
    "for k,v in path_quickest.items():\n",
    "    matrix[k[1],k[0]] = v\n",
    "\n",
    "fig, ax = plt.subplots(figsize=(10,10))\n",
    "im = plt.imshow(matrix)\n",
    "cbar = ax.figure.colorbar(im,\n",
    "                            ax=ax,\n",
    "                            shrink=0.5)\n",
    "plt.show()"
   ]
  }
 ],
 "metadata": {
  "kernelspec": {
   "display_name": "Python 3",
   "language": "python",
   "name": "python3"
  },
  "language_info": {
   "codemirror_mode": {
    "name": "ipython",
    "version": 3
   },
   "file_extension": ".py",
   "mimetype": "text/x-python",
   "name": "python",
   "nbconvert_exporter": "python",
   "pygments_lexer": "ipython3",
   "version": "3.11.1"
  },
  "orig_nbformat": 4,
  "vscode": {
   "interpreter": {
    "hash": "9ec89e1df4f9eedb342cfb5061f4cf947cdb79082f3ac0fb9c44af349303c674"
   }
  }
 },
 "nbformat": 4,
 "nbformat_minor": 2
}
