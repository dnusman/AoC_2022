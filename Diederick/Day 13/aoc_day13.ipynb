{
 "cells": [
  {
   "cell_type": "code",
   "execution_count": 1,
   "metadata": {},
   "outputs": [
    {
     "data": {
      "text/plain": [
       "[[[1, 1, 3, 1, 1], [1, 1, 5, 1, 1]],\n",
       " [[[1], [2, 3, 4]], [[1], 4]],\n",
       " [[9], [[8, 7, 6]]],\n",
       " [[[4, 4], 4, 4], [[4, 4], 4, 4, 4]],\n",
       " [[7, 7, 7, 7], [7, 7, 7]],\n",
       " [[], [3]],\n",
       " [[[[]]], [[]]],\n",
       " [[1, [2, [3, [4, [5, 6, 7]]]], 8, 9], [1, [2, [3, [4, [5, 6, 0]]]], 8, 9]]]"
      ]
     },
     "execution_count": 1,
     "metadata": {},
     "output_type": "execute_result"
    }
   ],
   "source": [
    "import os\n",
    "import numpy as np\n",
    "import matplotlib.pyplot as plt\n",
    "\n",
    "small = True\n",
    "\n",
    "if small:\n",
    "    with open('input13_small.txt') as f:\n",
    "        data = f.read()\n",
    "else: \n",
    "    with open('input13.txt') as f:\n",
    "        data = f.read()\n",
    "\n",
    "pairs = [list(map(eval, x.splitlines())) for x in data.strip().split('\\n\\n')]\n",
    "pairs"
   ]
  },
  {
   "cell_type": "code",
   "execution_count": 2,
   "metadata": {},
   "outputs": [
    {
     "name": "stdout",
     "output_type": "stream",
     "text": [
      "returning length\n",
      "returning length\n",
      "returning length\n",
      "returning length\n",
      "returning length\n",
      "returning length\n",
      "Answer 1: 13\n"
     ]
    }
   ],
   "source": [
    "def correct_order(left,right):\n",
    "    if type(left) == int:\n",
    "        if type(right) == int:\n",
    "            return left - right\n",
    "        else:                        \n",
    "            return correct_order([left],right)\n",
    "    else:\n",
    "        if type(right) == int:\n",
    "            return correct_order(left,[right])\n",
    "    \n",
    "    for a,b in zip(left,right):\n",
    "        v = correct_order(a,b)\n",
    "        if v:\n",
    "            return v\n",
    "    \n",
    "    print('returning length')\n",
    "    return len(left) - len(right)\n",
    "\n",
    "\n",
    "ans_1 = 0\n",
    "for idx,(left,right) in enumerate(pairs):\n",
    "    if correct_order(left,right) <0:\n",
    "        ans_1 +=(idx+1)\n",
    "\n",
    "print(f'Answer 1: {ans_1}')\n"
   ]
  },
  {
   "cell_type": "code",
   "execution_count": 3,
   "metadata": {},
   "outputs": [
    {
     "name": "stdout",
     "output_type": "stream",
     "text": [
      "returning length\n",
      "returning length\n",
      "returning length\n",
      "Answer 2: 140\n"
     ]
    }
   ],
   "source": [
    "packets = list(map(eval,data.split()))\n",
    "\n",
    "index_2 = 1\n",
    "index_6 = 2\n",
    "\n",
    "for a in packets:\n",
    "    if correct_order(a,[[2]]) < 0:\n",
    "        index_2 +=1\n",
    "        index_6 +=1\n",
    "    elif correct_order(a,[[6]]) <0:\n",
    "        index_6 +=1\n",
    "\n",
    "print(f'Answer 2: {index_2*index_6}')   "
   ]
  }
 ],
 "metadata": {
  "kernelspec": {
   "display_name": "Python 3",
   "language": "python",
   "name": "python3"
  },
  "language_info": {
   "codemirror_mode": {
    "name": "ipython",
    "version": 3
   },
   "file_extension": ".py",
   "mimetype": "text/x-python",
   "name": "python",
   "nbconvert_exporter": "python",
   "pygments_lexer": "ipython3",
   "version": "3.11.1"
  },
  "orig_nbformat": 4,
  "vscode": {
   "interpreter": {
    "hash": "9ec89e1df4f9eedb342cfb5061f4cf947cdb79082f3ac0fb9c44af349303c674"
   }
  }
 },
 "nbformat": 4,
 "nbformat_minor": 2
}
