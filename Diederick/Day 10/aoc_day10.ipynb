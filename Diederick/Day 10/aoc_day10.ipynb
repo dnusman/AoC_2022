{
 "cells": [
  {
   "cell_type": "code",
   "execution_count": 73,
   "metadata": {},
   "outputs": [],
   "source": [
    "import pandas as pd\n",
    "import numpy as np\n",
    "import matplotlib.pyplot as plt\n",
    "import os\n",
    "\n",
    "os.chdir('U:/Desktop/AOC_2022/')\n",
    "\n",
    "small = False\n",
    "\n",
    "if small:\n",
    "    with open('input10_small.txt') as f:\n",
    "        data = f.read().splitlines()\n",
    "else:\n",
    "    with open('input10.txt') as f:\n",
    "        data = f.read().splitlines()\n"
   ]
  },
  {
   "cell_type": "code",
   "execution_count": 74,
   "metadata": {},
   "outputs": [
    {
     "name": "stdout",
     "output_type": "stream",
     "text": [
      "Answer 1: 17180\n",
      "Answer 2:\n"
     ]
    },
    {
     "data": {
      "image/png": "[encoded data removed]",
      "text/plain": [
       "<Figure size 720x720 with 1 Axes>"
      ]
     },
     "metadata": {
      "needs_background": "light"
     },
     "output_type": "display_data"
    }
   ],
   "source": [
    "CRT = np.zeros((6,40))\n",
    "row = 0\n",
    "\n",
    "for x,part_2 in enumerate([False,True]):\n",
    "    cycle = 0\n",
    "    X = 1\n",
    "    cycle_dict = {}\n",
    "    for i in data:\n",
    "        if i == 'noop':\n",
    "            cycle +=1\n",
    "            cycle_dict[cycle] = []\n",
    "            cycle_dict[cycle].append(X)\n",
    "\n",
    "            #draw\n",
    "            if (cycle-1  <= X +1) and (cycle -1 >= X-1):\n",
    "                CRT[row][cycle-1] = 1\n",
    "            \n",
    "            if cycle == 40 and part_2:\n",
    "                row +=1\n",
    "                cycle = 0\n",
    "            \n",
    "        else:\n",
    "            _,increment = i.split(' ')\n",
    "            cycle += 1\n",
    "            cycle_dict[cycle] = []\n",
    "            cycle_dict[cycle].append(X)\n",
    "            \n",
    "            #draw\n",
    "            if (cycle -1 <= X +1) and (cycle-1 >= X-1):\n",
    "                CRT[row][cycle-1] = 1\n",
    "\n",
    "            if cycle == 40 and part_2:\n",
    "                row +=1\n",
    "                cycle = 0\n",
    "\n",
    "            cycle +=1\n",
    "            cycle_dict[cycle] = []\n",
    "            cycle_dict[cycle].append(X)\n",
    "\n",
    "            #draw\n",
    "            if (cycle-1 <= X +1) and (cycle-1 >= X-1):\n",
    "                CRT[row][cycle-1] = 1\n",
    "\n",
    "            if cycle == 40 and part_2:\n",
    "                row +=1\n",
    "                cycle = 0\n",
    "\n",
    "            X += int(increment)\n",
    "\n",
    "    if not part_2:\n",
    "        ans_1 = 0\n",
    "        for x in (20,60,100,140,180,220):\n",
    "            ans_1 += x*cycle_dict[x][0]      \n",
    "        print(f'Answer 1: {ans_1}')\n",
    "\n",
    "    if part_2:\n",
    "        fig, ax = plt.subplots(figsize=(10,10))\n",
    "        im = plt.imshow(CRT)\n",
    "        print('Answer 2:')\n",
    "        plt.show()\n",
    "        "
   ]
  },
  {
   "cell_type": "markdown",
   "metadata": {},
   "source": []
  }
 ],
 "metadata": {
  "kernelspec": {
   "display_name": "base",
   "language": "python",
   "name": "python3"
  },
  "language_info": {
   "codemirror_mode": {
    "name": "ipython",
    "version": 3
   },
   "file_extension": ".py",
   "mimetype": "text/x-python",
   "name": "python",
   "nbconvert_exporter": "python",
   "pygments_lexer": "ipython3",
   "version": "3.8.3"
  },
  "orig_nbformat": 4,
  "vscode": {
   "interpreter": {
    "hash": "27c777d8dbd377ffbadc2bdb4da609a829655af7f427d60ca35003daf0ec3727"
   }
  }
 },
 "nbformat": 4,
 "nbformat_minor": 2
}
