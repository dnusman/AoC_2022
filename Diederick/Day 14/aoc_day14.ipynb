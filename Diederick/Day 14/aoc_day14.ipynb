{
 "cells": [
  {
   "cell_type": "code",
   "execution_count": 147,
   "metadata": {},
   "outputs": [
    {
     "data": {
      "image/png": "[encoded data removed]",
      "text/plain": [
       "<Figure size 720x720 with 1 Axes>"
      ]
     },
     "metadata": {
      "needs_background": "light"
     },
     "output_type": "display_data"
    }
   ],
   "source": [
    "import os\n",
    "import numpy as np\n",
    "import matplotlib.pyplot as plt\n",
    "import time\n",
    "from IPython import display\n",
    "\n",
    "day = 14\n",
    "\n",
    "os.chdir(f'C:/Users/a652990/VSCode/AOC/AoC_2022/Diederick/Day {day}/')\n",
    "\n",
    "small = False\n",
    "\n",
    "if small:\n",
    "    with open('input14_small.txt') as f:\n",
    "        data = f.read().splitlines()\n",
    "        cave = np.zeros((15,100))\n",
    "        offset = 450\n",
    "else: \n",
    "    with open('input14.txt') as f:\n",
    "        data = f.read().splitlines()\n",
    "        cave = np.zeros((250,1000))\n",
    "        offset = 55\n",
    "    \n",
    "\n",
    "stones = set()\n",
    "\n",
    "\n",
    "abyss = 0\n",
    "for scan in data:\n",
    "    points = [list(map(int, x.split(','))) for x in scan.split(\" -> \")]\n",
    "    for i in range(len(points)-1):\n",
    "        for col in range(min(points[i][0],points[i+1][0]),\n",
    "                        max(points[i][0],points[i+1][0])+1):\n",
    "            for row in range(min(points[i][1],points[i+1][1]),\n",
    "                            max(points[i][1],points[i+1][1])+1):\n",
    "                stones.add((col,row))\n",
    "                cave[row,col-offset] = 1\n",
    "                abyss = max(row,abyss)\n",
    "\n",
    "fig, ax = plt.subplots(figsize=(10,10))\n",
    "im = plt.imshow(cave)\n",
    "plt.title('Day 14 - Regolith Reservoir')\n",
    "plt.show()\n",
    "\n",
    "\n"
   ]
  },
  {
   "cell_type": "code",
   "execution_count": 148,
   "metadata": {},
   "outputs": [
    {
     "name": "stdout",
     "output_type": "stream",
     "text": [
      "Answer 1: 962\n",
      "Answer 2:26375\n"
     ]
    },
    {
     "data": {
      "image/png": "[encoded data removed]",
      "text/plain": [
       "<Figure size 1440x1440 with 1 Axes>"
      ]
     },
     "metadata": {
      "needs_background": "light"
     },
     "output_type": "display_data"
    }
   ],
   "source": [
    "start = [0,500]\n",
    "sand_resting = 0\n",
    "\n",
    "stop = False\n",
    "solved_1 = False\n",
    "for grain in range(50000):\n",
    "\n",
    "    # if stop and not solved_1:\n",
    "    #     print(f'Answer 1: {sand_resting-1}')\n",
    "    #     solved_1 = True\n",
    "    #     # break\n",
    "    \n",
    "    still = False\n",
    "    coord_col = start[1]\n",
    "    coord_row = start[0]\n",
    "\n",
    "    if cave[0][500-offset] == -1:                \n",
    "        print(f'Answer 2:{sand_resting}')\n",
    "        break\n",
    "\n",
    "    # plt.subplots(figsize=(20,20))\n",
    "    # plt.imshow(cave)\n",
    "    # plt.show()\n",
    "\n",
    "    while not still:\n",
    "\n",
    "        if (cave[coord_row+1][coord_col-offset] == 0) and (coord_row+1==(abyss+1)):\n",
    "            sand_resting +=1\n",
    "            cave[coord_row+1][coord_col-offset] = -1\n",
    "            still = True\n",
    "            continue\n",
    "        \n",
    "        if coord_row == abyss and not solved_1:\n",
    "                print(f'Answer 1: {sand_resting-1}')\n",
    "                solved_1 = True\n",
    "\n",
    "        if (cave[coord_row+1][coord_col-offset] == 0) and (coord_row+1<(abyss+1)):  #keep moving\n",
    "            coord_row +=1\n",
    "        \n",
    "        else:\n",
    "            if (cave[coord_row+1][coord_col-offset] == 0) and (coord_row+1 >= (abyss+1)):\n",
    "                 cave[coord_row+1][coord_col-offset] = -1 \n",
    "            elif cave[coord_row+1][coord_col-offset-1] == 0 and (coord_row+1 < (abyss+1)):   #move left down\n",
    "                coord_row +=1\n",
    "                coord_col -=1\n",
    "            elif cave[coord_row+1][coord_col-offset-1] == 0 and (coord_row+1 >= (abyss+1)):   #move left down if bottom reached\n",
    "                sand_resting +=1\n",
    "                cave[coord_row+1][coord_col-offset-1] = -1\n",
    "                still = True\n",
    "            elif cave[coord_row+1][coord_col-offset+1] == 0 and (coord_row+1 < (abyss+1)): #move right down\n",
    "                coord_row +=1\n",
    "                coord_col +=1\n",
    "            elif cave[coord_row+1][coord_col-offset+1] == 0 and (coord_row+1 >= (abyss+1)): #move right down if bottom reached\n",
    "                sand_resting +=1\n",
    "                cave[coord_row+1][coord_col-offset+1] = -1\n",
    "                still = True\n",
    "            else:\n",
    "                cave[coord_row][coord_col-offset] = -1 #lay still\n",
    "                sand_resting +=1\n",
    "                still = True\n",
    "            \n",
    "            \n",
    "                \n",
    "                \n",
    "plt.subplots(figsize=(20,20))\n",
    "plt.imshow(cave)\n",
    "plt.show()\n",
    "            \n",
    "               \n",
    "\n"
   ]
  }
 ],
 "metadata": {
  "kernelspec": {
   "display_name": "Python 3",
   "language": "python",
   "name": "python3"
  },
  "language_info": {
   "codemirror_mode": {
    "name": "ipython",
    "version": 3
   },
   "file_extension": ".py",
   "mimetype": "text/x-python",
   "name": "python",
   "nbconvert_exporter": "python",
   "pygments_lexer": "ipython3",
   "version": "3.8.3"
  },
  "orig_nbformat": 4,
  "vscode": {
   "interpreter": {
    "hash": "2081760f1c3736c0f23b343f8717a57a2e7acf9e623fea9094d6936a46bdacf7"
   }
  }
 },
 "nbformat": 4,
 "nbformat_minor": 2
}
