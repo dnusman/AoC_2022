{
 "cells": [
  {
   "cell_type": "code",
   "execution_count": 20,
   "metadata": {},
   "outputs": [],
   "source": [
    "import os\n",
    "\n",
    "os.chdir('U:/Desktop/AOC_2022/')\n",
    "\n",
    "small = False\n",
    "\n",
    "if small:\n",
    "    with open('input11_small.txt') as f:\n",
    "        data = f.read().split('\\n\\n')\n",
    "else:\n",
    "    with open('input11.txt') as f:\n",
    "        data = f.read().split('\\n\\n')\n",
    "\n",
    "\n",
    "df = [i.splitlines() for i in data]"
   ]
  },
  {
   "cell_type": "code",
   "execution_count": 22,
   "metadata": {},
   "outputs": [
    {
     "name": "stdout",
     "output_type": "stream",
     "text": [
      "Answer 1: 113232\n",
      "Answer 2: 29703395016\n"
     ]
    }
   ],
   "source": [
    "for part,loop_size in enumerate([20,10000]):\n",
    "\n",
    "    monkey_dict = {}\n",
    "\n",
    "    for i,v in enumerate(df):\n",
    "        monkey = {}\n",
    "        monkey['items'] = [int(item) for item in v[1][18:].split(', ')]\n",
    "        monkey['operation'] = v[2][23:].split(' ')\n",
    "        monkey['test'] = v[3][21:]\n",
    "        monkey['true'] = v[4][29:]\n",
    "        monkey['false'] = v[5][30:]\n",
    "        monkey['counter'] = 0\n",
    "        monkey_dict[i] = monkey\n",
    "    \n",
    "    shrinker = 1\n",
    "    for monkey in monkey_dict:\n",
    "        shrinker *= int(monkey_dict[monkey]['test'])   \n",
    "\n",
    "    for loop in range(loop_size):\n",
    "        for monkey in monkey_dict:\n",
    "            for i,v in enumerate(monkey_dict[monkey]['items']):\n",
    "                old = v\n",
    "                expression = str(v) + monkey_dict[monkey]['operation'][0] + monkey_dict[monkey]['operation'][1]\n",
    "                worry_level = eval(expression) \n",
    "                if part == 0:\n",
    "                   worry_level = eval(expression)//3\n",
    "                elif part == 1:\n",
    "                    worry_level = worry_level % shrinker\n",
    "\n",
    "                if worry_level % int(monkey_dict[monkey]['test']) == 0:\n",
    "                    monkey_dict[int(monkey_dict[monkey]['true'])]['items'].append(worry_level)\n",
    "                else:\n",
    "                    monkey_dict[int(monkey_dict[monkey]['false'])]['items'].append(worry_level)\n",
    "                monkey_dict[monkey]['counter'] +=1\n",
    "            monkey_dict[monkey]['items'] = []\n",
    "   \n",
    "    ans = []\n",
    "    for monkey in monkey_dict:\n",
    "        ans.append(monkey_dict[monkey]['counter'])\n",
    "    ans.sort(reverse=True)\n",
    "\n",
    "    print(f'Answer {part+1}: {ans[0]*ans[1]}')\n",
    "\n"
   ]
  }
 ],
 "metadata": {
  "kernelspec": {
   "display_name": "base",
   "language": "python",
   "name": "python3"
  },
  "language_info": {
   "codemirror_mode": {
    "name": "ipython",
    "version": 3
   },
   "file_extension": ".py",
   "mimetype": "text/x-python",
   "name": "python",
   "nbconvert_exporter": "python",
   "pygments_lexer": "ipython3",
   "version": "3.8.3"
  },
  "orig_nbformat": 4,
  "vscode": {
   "interpreter": {
    "hash": "27c777d8dbd377ffbadc2bdb4da609a829655af7f427d60ca35003daf0ec3727"
   }
  }
 },
 "nbformat": 4,
 "nbformat_minor": 2
}
