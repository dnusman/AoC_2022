{
 "cells": [
  {
   "cell_type": "code",
   "execution_count": 30,
   "metadata": {},
   "outputs": [],
   "source": [
    "import os\n",
    "\n",
    "os.chdir('U:/Desktop/AOC_2022/')\n",
    "\n",
    "small = False\n",
    "\n",
    "if small:\n",
    "    with open('input11_small.txt') as f:\n",
    "        data = f.read().split('\\n\\n')\n",
    "else:\n",
    "    with open('input11.txt') as f:\n",
    "        data = f.read().split('\\n\\n')\n",
    "\n",
    "\n",
    "df = [i.splitlines() for i in data]\n"
   ]
  },
  {
   "cell_type": "code",
   "execution_count": 31,
   "metadata": {},
   "outputs": [
    {
     "data": {
      "text/plain": [
       "'Answer 1: 101697'"
      ]
     },
     "execution_count": 31,
     "metadata": {},
     "output_type": "execute_result"
    }
   ],
   "source": [
    "monkey_dict = {}\n",
    "\n",
    "for i,v in enumerate(df):\n",
    "    monkey = {}\n",
    "    monkey['items'] = [int(item) for item in v[1][18:].split(', ')]\n",
    "    monkey['operation'] = v[2][23:].split(' ')\n",
    "    monkey['test'] = v[3][21:]\n",
    "    monkey['true'] = v[4][29:]\n",
    "    monkey['false'] = v[5][30:]\n",
    "    monkey['counter'] = 0\n",
    "    monkey_dict[i] = monkey\n",
    "\n",
    "for loop in range(20):\n",
    "    for monkey in monkey_dict:\n",
    "        for i,v in enumerate(monkey_dict[monkey]['items']):\n",
    "            old = v\n",
    "            expression = str(v) + monkey_dict[monkey]['operation'][0] + monkey_dict[monkey]['operation'][1]\n",
    "            worry_level = eval(expression)\n",
    "            if worry_level % int(monkey_dict[monkey]['test']) == 0:\n",
    "                monkey_dict[int(monkey_dict[monkey]['true'])]['items'].append(worry_level)\n",
    "            else:\n",
    "                monkey_dict[int(monkey_dict[monkey]['false'])]['items'].append(worry_level)\n",
    "            monkey_dict[monkey]['counter'] +=1\n",
    "        monkey_dict[monkey]['items'] = []\n",
    "\n",
    "ans_1 = []\n",
    "for monkey in monkey_dict:\n",
    "    ans_1.append(monkey_dict[monkey]['counter'])\n",
    "ans_1.sort(reverse=True)\n",
    "\n",
    "f'Answer 1: {ans_1[0]*ans_1[1]}'   "
   ]
  }
 ],
 "metadata": {
  "kernelspec": {
   "display_name": "base",
   "language": "python",
   "name": "python3"
  },
  "language_info": {
   "codemirror_mode": {
    "name": "ipython",
    "version": 3
   },
   "file_extension": ".py",
   "mimetype": "text/x-python",
   "name": "python",
   "nbconvert_exporter": "python",
   "pygments_lexer": "ipython3",
   "version": "3.8.3"
  },
  "orig_nbformat": 4,
  "vscode": {
   "interpreter": {
    "hash": "27c777d8dbd377ffbadc2bdb4da609a829655af7f427d60ca35003daf0ec3727"
   }
  }
 },
 "nbformat": 4,
 "nbformat_minor": 2
}
