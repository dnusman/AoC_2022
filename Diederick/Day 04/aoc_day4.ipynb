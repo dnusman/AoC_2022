{
 "cells": [
  {
   "cell_type": "code",
   "execution_count": 6,
   "metadata": {},
   "outputs": [
    {
     "name": "stderr",
     "output_type": "stream",
     "text": [
      "C:\\Users\\A652990EL\\AppData\\Local\\Temp\\ipykernel_19368\\594452706.py:7: FutureWarning: In a future version of pandas all arguments of StringMethods.split except for the argument 'pat' will be keyword-only.\n",
      "  df[['first','second']] = df[0].str.split(',', 1, expand=True)\n",
      "C:\\Users\\A652990EL\\AppData\\Local\\Temp\\ipykernel_19368\\594452706.py:8: FutureWarning: In a future version of pandas all arguments of StringMethods.split except for the argument 'pat' will be keyword-only.\n",
      "  df[['first_start','first_end']] = df['first'].str.split('-',1,expand=True)\n",
      "C:\\Users\\A652990EL\\AppData\\Local\\Temp\\ipykernel_19368\\594452706.py:9: FutureWarning: In a future version of pandas all arguments of StringMethods.split except for the argument 'pat' will be keyword-only.\n",
      "  df[['second_start','second_end']] = df['second'].str.split('-',1,expand=True)\n"
     ]
    },
    {
     "data": {
      "text/html": [
       "<div>\n",
       "<style scoped>\n",
       "    .dataframe tbody tr th:only-of-type {\n",
       "        vertical-align: middle;\n",
       "    }\n",
       "\n",
       "    .dataframe tbody tr th {\n",
       "        vertical-align: top;\n",
       "    }\n",
       "\n",
       "    .dataframe thead th {\n",
       "        text-align: right;\n",
       "    }\n",
       "</style>\n",
       "<table border=\"1\" class=\"dataframe\">\n",
       "  <thead>\n",
       "    <tr style=\"text-align: right;\">\n",
       "      <th></th>\n",
       "      <th>first_start</th>\n",
       "      <th>first_end</th>\n",
       "      <th>second_start</th>\n",
       "      <th>second_end</th>\n",
       "    </tr>\n",
       "  </thead>\n",
       "  <tbody>\n",
       "    <tr>\n",
       "      <th>0</th>\n",
       "      <td>22</td>\n",
       "      <td>77</td>\n",
       "      <td>14</td>\n",
       "      <td>96</td>\n",
       "    </tr>\n",
       "    <tr>\n",
       "      <th>1</th>\n",
       "      <td>7</td>\n",
       "      <td>99</td>\n",
       "      <td>65</td>\n",
       "      <td>98</td>\n",
       "    </tr>\n",
       "    <tr>\n",
       "      <th>2</th>\n",
       "      <td>22</td>\n",
       "      <td>36</td>\n",
       "      <td>37</td>\n",
       "      <td>62</td>\n",
       "    </tr>\n",
       "    <tr>\n",
       "      <th>3</th>\n",
       "      <td>25</td>\n",
       "      <td>94</td>\n",
       "      <td>24</td>\n",
       "      <td>67</td>\n",
       "    </tr>\n",
       "    <tr>\n",
       "      <th>4</th>\n",
       "      <td>6</td>\n",
       "      <td>91</td>\n",
       "      <td>1</td>\n",
       "      <td>6</td>\n",
       "    </tr>\n",
       "    <tr>\n",
       "      <th>...</th>\n",
       "      <td>...</td>\n",
       "      <td>...</td>\n",
       "      <td>...</td>\n",
       "      <td>...</td>\n",
       "    </tr>\n",
       "    <tr>\n",
       "      <th>995</th>\n",
       "      <td>14</td>\n",
       "      <td>36</td>\n",
       "      <td>13</td>\n",
       "      <td>36</td>\n",
       "    </tr>\n",
       "    <tr>\n",
       "      <th>996</th>\n",
       "      <td>58</td>\n",
       "      <td>64</td>\n",
       "      <td>59</td>\n",
       "      <td>65</td>\n",
       "    </tr>\n",
       "    <tr>\n",
       "      <th>997</th>\n",
       "      <td>20</td>\n",
       "      <td>92</td>\n",
       "      <td>21</td>\n",
       "      <td>55</td>\n",
       "    </tr>\n",
       "    <tr>\n",
       "      <th>998</th>\n",
       "      <td>20</td>\n",
       "      <td>85</td>\n",
       "      <td>19</td>\n",
       "      <td>20</td>\n",
       "    </tr>\n",
       "    <tr>\n",
       "      <th>999</th>\n",
       "      <td>19</td>\n",
       "      <td>47</td>\n",
       "      <td>18</td>\n",
       "      <td>99</td>\n",
       "    </tr>\n",
       "  </tbody>\n",
       "</table>\n",
       "<p>1000 rows × 4 columns</p>\n",
       "</div>"
      ],
      "text/plain": [
       "     first_start  first_end  second_start  second_end\n",
       "0             22         77            14          96\n",
       "1              7         99            65          98\n",
       "2             22         36            37          62\n",
       "3             25         94            24          67\n",
       "4              6         91             1           6\n",
       "..           ...        ...           ...         ...\n",
       "995           14         36            13          36\n",
       "996           58         64            59          65\n",
       "997           20         92            21          55\n",
       "998           20         85            19          20\n",
       "999           19         47            18          99\n",
       "\n",
       "[1000 rows x 4 columns]"
      ]
     },
     "metadata": {},
     "output_type": "display_data"
    }
   ],
   "source": [
    "import pandas as pd\n",
    "import datetime\n",
    "import requests\n",
    "\n",
    "df = pd.read_csv(\"./aoc_day4.csv\",header=None)\n",
    "\n",
    "df[['first','second']] = df[0].str.split(',', 1, expand=True)\n",
    "df[['first_start','first_end']] = df['first'].str.split('-',1,expand=True)\n",
    "df[['second_start','second_end']] = df['second'].str.split('-',1,expand=True)\n",
    "df = df.drop(columns = [0,'first','second'])\n",
    "\n",
    "df[[\"first_start\", \"first_end\",\"second_start\",\"second_end\"]] = df[[\"first_start\", \"first_end\",\"second_start\",\"second_end\"]].apply(pd.to_numeric)\n",
    "pd.set_option('display.max_rows', 10)\n",
    "display(df)\n"
   ]
  },
  {
   "cell_type": "code",
   "execution_count": 7,
   "metadata": {},
   "outputs": [
    {
     "name": "stdout",
     "output_type": "stream",
     "text": [
      "Answer 1: 532\n"
     ]
    }
   ],
   "source": [
    "def check_full_overlap (row):\n",
    "    \n",
    "    overlapping_elf = 0\n",
    "    \n",
    "    if((set((range(row['first_start'],row['first_end']+1))).issubset(range(row['second_start'],row['second_end']+1))) or (set((range(row['second_start'],row['second_end']+1))).issubset(range(row['first_start'],row['first_end']+1)))):\n",
    "        overlapping_elf+=1\n",
    "\n",
    "\n",
    "    return overlapping_elf\n",
    "\n",
    "print(\"Answer 1: {0}\".format(df.apply(check_full_overlap, axis=1).sum()))"
   ]
  },
  {
   "cell_type": "code",
   "execution_count": 8,
   "metadata": {},
   "outputs": [
    {
     "name": "stdout",
     "output_type": "stream",
     "text": [
      "Answer 2: 854\n"
     ]
    }
   ],
   "source": [
    "\n",
    "def check_partly_overlap (row):\n",
    "    overlapping_elf = 0\n",
    "    \n",
    "    first_set = set(range(row['first_start'],row['first_end']+1))\n",
    "    second_set = set(range(row['second_start'],row['second_end']+1))\n",
    "\n",
    "    if((first_set.intersection(range(row['second_start'],row['second_end']+1))) or (second_set.intersection(range(row['first_start'],row['first_end']+1)))):\n",
    "        overlapping_elf +=1\n",
    "\n",
    "    return overlapping_elf\n",
    "\n",
    "print(\"Answer 2: {0}\".format(df.apply(check_partly_overlap,axis=1).sum()))"
   ]
  },
  {
   "cell_type": "code",
   "execution_count": 9,
   "metadata": {},
   "outputs": [
    {
     "data": {
      "text/plain": [
       "580"
      ]
     },
     "execution_count": 9,
     "metadata": {},
     "output_type": "execute_result"
    }
   ],
   "source": [
    "def check_overlap (row):\n",
    "    \n",
    "    overlapping_elf = 0\n",
    "    first_string = str(row['first_start'])\n",
    "    second_string = str(row['second_start'])\n",
    "    for i in range(row['first_start']+1,row['first_end']+1):\n",
    "        first_string +=\"-\"+ str(i)\n",
    "    for j in range(row['second_start']+1,row['second_end']+1):\n",
    "        second_string += \"-\"+ str(j)\n",
    "    \n",
    "    \n",
    "    # print(\"first string: {0}, second string: {1}\".format(first_string,second_string))\n",
    "    # print(second_string)\n",
    "\n",
    "    if first_string in second_string:\n",
    "        # print(\"row: {4} - overlapped {0}-{1} > {2}-{3}\".format(row['first_start'],row['first_end'],row['second_start'],row['second_end'],row.name))\n",
    "        overlapping_elf += 1\n",
    "        \n",
    "    if second_string in first_string:\n",
    "        # print(\"row: {4} - overlapped {0}-{1} < {2}-{3}\".format(row['first_start'],row['first_end'],row['second_start'],row['second_end'],row.name))\n",
    "        overlapping_elf +=1\n",
    "    return overlapping_elf\n",
    "\n",
    "\n",
    "\n",
    "df.apply(check_overlap, axis=1).sum()"
   ]
  }
 ],
 "metadata": {
  "kernelspec": {
   "display_name": "Python 3",
   "language": "python",
   "name": "python3"
  },
  "language_info": {
   "codemirror_mode": {
    "name": "ipython",
    "version": 3
   },
   "file_extension": ".py",
   "mimetype": "text/x-python",
   "name": "python",
   "nbconvert_exporter": "python",
   "pygments_lexer": "ipython3",
   "version": "3.11.1"
  },
  "orig_nbformat": 4,
  "vscode": {
   "interpreter": {
    "hash": "9ec89e1df4f9eedb342cfb5061f4cf947cdb79082f3ac0fb9c44af349303c674"
   }
  }
 },
 "nbformat": 4,
 "nbformat_minor": 2
}
